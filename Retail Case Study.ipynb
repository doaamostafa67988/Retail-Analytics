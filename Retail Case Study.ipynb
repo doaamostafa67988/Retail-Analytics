{
 "cells": [
  {
   "cell_type": "markdown",
   "metadata": {
    "id": "f7fSzhHaTccr"
   },
   "source": [
    "# What is Retail?\n",
    "Retail, by definition, is the sale of goods or service from a business to a consumer for their own use. A retail transaction handles small quantities of goods whereas wholesale deals with the purchasing of goods on a large scale. Retail transactions are not to be confused with online transactions; goods must be sold from a single point directly to a consumer for their end users."
   ]
  },
  {
   "cell_type": "markdown",
   "metadata": {
    "id": "iXJ5OLcmcJd1"
   },
   "source": [
    "# What is Retail Analytics ?\n",
    "\n",
    "Retail analytics is the use of data to measure the performance of a retail operation. These measurements help merchants make better decisions for the health and longevity of their business. "
   ]
  },
  {
   "cell_type": "markdown",
   "metadata": {
    "id": "F89rUDO3dL27"
   },
   "source": [
    "# What is Our Target ? \n",
    "Getting all hidden informations through dealing with 3 historical datasets for a Retail Store By Answering All Following Questions.\n"
   ]
  },
  {
   "cell_type": "markdown",
   "metadata": {
    "id": "8bUQ0HOuEG2R"
   },
   "source": [
    "## Q1. Merge The Datasets `Customers` ,`Product Hierarchy` and `Transactions` Data sets as `Customer_Final` \n",
    "> Hint : keep all customers who have done transactions.\n",
    "\n",
    "1. Read `Customer.csv`\n",
    "2. Read `prod_cat_info.csv`\n",
    "3. Read `Transactions.csv`\n",
    "4. Make an Inner Join between Customers and Their Transactions - Search for Common Column.\n",
    "5. Make an Inner Join between Customers+Transactions  and the product categories - Search Again for Common Column.\n",
    "\n",
    "\n",
    "\n"
   ]
  },
  {
   "cell_type": "code",
   "execution_count": null,
   "metadata": {
    "colab": {
     "base_uri": "https://localhost:8080/"
    },
    "executionInfo": {
     "elapsed": 26481,
     "status": "ok",
     "timestamp": 1621709152631,
     "user": {
      "displayName": "Muhamed Essam",
      "photoUrl": "",
      "userId": "08424210389974954863"
     },
     "user_tz": -120
    },
    "id": "x3jP-1IaZVn8",
    "outputId": "529bdff0-54ca-4cb1-f6a7-cf706a33d578"
   },
   "outputs": [
    {
     "name": "stdout",
     "output_type": "stream",
     "text": [
      "Mounted at /content/drive\n"
     ]
    }
   ],
   "source": [
    "from google.colab import drive\n",
    "drive.mount('/content/drive')"
   ]
  },
  {
   "cell_type": "code",
   "execution_count": null,
   "metadata": {
    "id": "0VQqbuZCZPEK"
   },
   "outputs": [],
   "source": [
    "import os \n",
    "os.chdir('/content/drive/MyDrive/Python For Data Analytics/Day3')"
   ]
  },
  {
   "cell_type": "code",
   "execution_count": 1,
   "metadata": {
    "id": "F6-FBouKEG2U"
   },
   "outputs": [],
   "source": [
    "import pandas as pd"
   ]
  },
  {
   "cell_type": "code",
   "execution_count": 2,
   "metadata": {
    "colab": {
     "base_uri": "https://localhost:8080/",
     "height": 419
    },
    "executionInfo": {
     "elapsed": 703,
     "status": "ok",
     "timestamp": 1621714649393,
     "user": {
      "displayName": "Muhamed Essam",
      "photoUrl": "",
      "userId": "08424210389974954863"
     },
     "user_tz": -120
    },
    "id": "6-pKL7YKEG2V",
    "outputId": "c555fdd8-ba63-44f8-cc6c-ba184fed002b",
    "scrolled": true
   },
   "outputs": [
    {
     "data": {
      "text/html": [
       "<div>\n",
       "<style scoped>\n",
       "    .dataframe tbody tr th:only-of-type {\n",
       "        vertical-align: middle;\n",
       "    }\n",
       "\n",
       "    .dataframe tbody tr th {\n",
       "        vertical-align: top;\n",
       "    }\n",
       "\n",
       "    .dataframe thead th {\n",
       "        text-align: right;\n",
       "    }\n",
       "</style>\n",
       "<table border=\"1\" class=\"dataframe\">\n",
       "  <thead>\n",
       "    <tr style=\"text-align: right;\">\n",
       "      <th></th>\n",
       "      <th>customer_Id</th>\n",
       "      <th>DOB</th>\n",
       "      <th>Gender</th>\n",
       "      <th>city_code</th>\n",
       "    </tr>\n",
       "  </thead>\n",
       "  <tbody>\n",
       "    <tr>\n",
       "      <th>0</th>\n",
       "      <td>268408</td>\n",
       "      <td>2-1-70</td>\n",
       "      <td>M</td>\n",
       "      <td>4.0</td>\n",
       "    </tr>\n",
       "    <tr>\n",
       "      <th>1</th>\n",
       "      <td>269696</td>\n",
       "      <td>7-1-70</td>\n",
       "      <td>F</td>\n",
       "      <td>8.0</td>\n",
       "    </tr>\n",
       "    <tr>\n",
       "      <th>2</th>\n",
       "      <td>268159</td>\n",
       "      <td>8-1-70</td>\n",
       "      <td>F</td>\n",
       "      <td>8.0</td>\n",
       "    </tr>\n",
       "    <tr>\n",
       "      <th>3</th>\n",
       "      <td>270181</td>\n",
       "      <td>10-1-70</td>\n",
       "      <td>F</td>\n",
       "      <td>2.0</td>\n",
       "    </tr>\n",
       "    <tr>\n",
       "      <th>4</th>\n",
       "      <td>268073</td>\n",
       "      <td>11-1-70</td>\n",
       "      <td>M</td>\n",
       "      <td>1.0</td>\n",
       "    </tr>\n",
       "    <tr>\n",
       "      <th>...</th>\n",
       "      <td>...</td>\n",
       "      <td>...</td>\n",
       "      <td>...</td>\n",
       "      <td>...</td>\n",
       "    </tr>\n",
       "    <tr>\n",
       "      <th>5642</th>\n",
       "      <td>274474</td>\n",
       "      <td>19-12-92</td>\n",
       "      <td>M</td>\n",
       "      <td>2.0</td>\n",
       "    </tr>\n",
       "    <tr>\n",
       "      <th>5643</th>\n",
       "      <td>267666</td>\n",
       "      <td>24-12-92</td>\n",
       "      <td>M</td>\n",
       "      <td>6.0</td>\n",
       "    </tr>\n",
       "    <tr>\n",
       "      <th>5644</th>\n",
       "      <td>270476</td>\n",
       "      <td>25-12-92</td>\n",
       "      <td>F</td>\n",
       "      <td>3.0</td>\n",
       "    </tr>\n",
       "    <tr>\n",
       "      <th>5645</th>\n",
       "      <td>269626</td>\n",
       "      <td>27-12-92</td>\n",
       "      <td>F</td>\n",
       "      <td>5.0</td>\n",
       "    </tr>\n",
       "    <tr>\n",
       "      <th>5646</th>\n",
       "      <td>274308</td>\n",
       "      <td>29-12-92</td>\n",
       "      <td>F</td>\n",
       "      <td>5.0</td>\n",
       "    </tr>\n",
       "  </tbody>\n",
       "</table>\n",
       "<p>5647 rows × 4 columns</p>\n",
       "</div>"
      ],
      "text/plain": [
       "      customer_Id       DOB Gender  city_code\n",
       "0          268408    2-1-70      M        4.0\n",
       "1          269696    7-1-70      F        8.0\n",
       "2          268159    8-1-70      F        8.0\n",
       "3          270181   10-1-70      F        2.0\n",
       "4          268073   11-1-70      M        1.0\n",
       "...           ...       ...    ...        ...\n",
       "5642       274474  19-12-92      M        2.0\n",
       "5643       267666  24-12-92      M        6.0\n",
       "5644       270476  25-12-92      F        3.0\n",
       "5645       269626  27-12-92      F        5.0\n",
       "5646       274308  29-12-92      F        5.0\n",
       "\n",
       "[5647 rows x 4 columns]"
      ]
     },
     "execution_count": 2,
     "metadata": {},
     "output_type": "execute_result"
    }
   ],
   "source": [
    "Customer = pd.read_csv(\"Customer.csv\")\n",
    "Customer"
   ]
  },
  {
   "cell_type": "code",
   "execution_count": 3,
   "metadata": {
    "colab": {
     "base_uri": "https://localhost:8080/",
     "height": 762
    },
    "executionInfo": {
     "elapsed": 420,
     "status": "ok",
     "timestamp": 1621714652426,
     "user": {
      "displayName": "Muhamed Essam",
      "photoUrl": "",
      "userId": "08424210389974954863"
     },
     "user_tz": -120
    },
    "id": "kp-pvi7pEG2X",
    "outputId": "d4a67ddb-8ea4-45c2-a08a-52190541026c"
   },
   "outputs": [
    {
     "data": {
      "text/html": [
       "<div>\n",
       "<style scoped>\n",
       "    .dataframe tbody tr th:only-of-type {\n",
       "        vertical-align: middle;\n",
       "    }\n",
       "\n",
       "    .dataframe tbody tr th {\n",
       "        vertical-align: top;\n",
       "    }\n",
       "\n",
       "    .dataframe thead th {\n",
       "        text-align: right;\n",
       "    }\n",
       "</style>\n",
       "<table border=\"1\" class=\"dataframe\">\n",
       "  <thead>\n",
       "    <tr style=\"text-align: right;\">\n",
       "      <th></th>\n",
       "      <th>prod_cat_code</th>\n",
       "      <th>prod_cat</th>\n",
       "      <th>prod_sub_cat_code</th>\n",
       "      <th>prod_subcat</th>\n",
       "    </tr>\n",
       "  </thead>\n",
       "  <tbody>\n",
       "    <tr>\n",
       "      <th>0</th>\n",
       "      <td>1</td>\n",
       "      <td>Clothing</td>\n",
       "      <td>4</td>\n",
       "      <td>Mens</td>\n",
       "    </tr>\n",
       "    <tr>\n",
       "      <th>1</th>\n",
       "      <td>1</td>\n",
       "      <td>Clothing</td>\n",
       "      <td>1</td>\n",
       "      <td>Women</td>\n",
       "    </tr>\n",
       "    <tr>\n",
       "      <th>2</th>\n",
       "      <td>1</td>\n",
       "      <td>Clothing</td>\n",
       "      <td>3</td>\n",
       "      <td>Kids</td>\n",
       "    </tr>\n",
       "    <tr>\n",
       "      <th>3</th>\n",
       "      <td>2</td>\n",
       "      <td>Footwear</td>\n",
       "      <td>1</td>\n",
       "      <td>Mens</td>\n",
       "    </tr>\n",
       "    <tr>\n",
       "      <th>4</th>\n",
       "      <td>2</td>\n",
       "      <td>Footwear</td>\n",
       "      <td>3</td>\n",
       "      <td>Women</td>\n",
       "    </tr>\n",
       "    <tr>\n",
       "      <th>5</th>\n",
       "      <td>2</td>\n",
       "      <td>Footwear</td>\n",
       "      <td>4</td>\n",
       "      <td>Kids</td>\n",
       "    </tr>\n",
       "    <tr>\n",
       "      <th>6</th>\n",
       "      <td>3</td>\n",
       "      <td>Electronics</td>\n",
       "      <td>4</td>\n",
       "      <td>Mobiles</td>\n",
       "    </tr>\n",
       "    <tr>\n",
       "      <th>7</th>\n",
       "      <td>3</td>\n",
       "      <td>Electronics</td>\n",
       "      <td>5</td>\n",
       "      <td>Computers</td>\n",
       "    </tr>\n",
       "    <tr>\n",
       "      <th>8</th>\n",
       "      <td>3</td>\n",
       "      <td>Electronics</td>\n",
       "      <td>8</td>\n",
       "      <td>Personal Appliances</td>\n",
       "    </tr>\n",
       "    <tr>\n",
       "      <th>9</th>\n",
       "      <td>3</td>\n",
       "      <td>Electronics</td>\n",
       "      <td>9</td>\n",
       "      <td>Cameras</td>\n",
       "    </tr>\n",
       "    <tr>\n",
       "      <th>10</th>\n",
       "      <td>3</td>\n",
       "      <td>Electronics</td>\n",
       "      <td>10</td>\n",
       "      <td>Audio and video</td>\n",
       "    </tr>\n",
       "    <tr>\n",
       "      <th>11</th>\n",
       "      <td>4</td>\n",
       "      <td>Bags</td>\n",
       "      <td>1</td>\n",
       "      <td>Mens</td>\n",
       "    </tr>\n",
       "    <tr>\n",
       "      <th>12</th>\n",
       "      <td>4</td>\n",
       "      <td>Bags</td>\n",
       "      <td>4</td>\n",
       "      <td>Women</td>\n",
       "    </tr>\n",
       "    <tr>\n",
       "      <th>13</th>\n",
       "      <td>5</td>\n",
       "      <td>Books</td>\n",
       "      <td>7</td>\n",
       "      <td>Fiction</td>\n",
       "    </tr>\n",
       "    <tr>\n",
       "      <th>14</th>\n",
       "      <td>5</td>\n",
       "      <td>Books</td>\n",
       "      <td>12</td>\n",
       "      <td>Academic</td>\n",
       "    </tr>\n",
       "    <tr>\n",
       "      <th>15</th>\n",
       "      <td>5</td>\n",
       "      <td>Books</td>\n",
       "      <td>10</td>\n",
       "      <td>Non-Fiction</td>\n",
       "    </tr>\n",
       "    <tr>\n",
       "      <th>16</th>\n",
       "      <td>5</td>\n",
       "      <td>Books</td>\n",
       "      <td>11</td>\n",
       "      <td>Children</td>\n",
       "    </tr>\n",
       "    <tr>\n",
       "      <th>17</th>\n",
       "      <td>5</td>\n",
       "      <td>Books</td>\n",
       "      <td>3</td>\n",
       "      <td>Comics</td>\n",
       "    </tr>\n",
       "    <tr>\n",
       "      <th>18</th>\n",
       "      <td>5</td>\n",
       "      <td>Books</td>\n",
       "      <td>6</td>\n",
       "      <td>DIY</td>\n",
       "    </tr>\n",
       "    <tr>\n",
       "      <th>19</th>\n",
       "      <td>6</td>\n",
       "      <td>Home and kitchen</td>\n",
       "      <td>2</td>\n",
       "      <td>Furnishing</td>\n",
       "    </tr>\n",
       "    <tr>\n",
       "      <th>20</th>\n",
       "      <td>6</td>\n",
       "      <td>Home and kitchen</td>\n",
       "      <td>10</td>\n",
       "      <td>Kitchen</td>\n",
       "    </tr>\n",
       "    <tr>\n",
       "      <th>21</th>\n",
       "      <td>6</td>\n",
       "      <td>Home and kitchen</td>\n",
       "      <td>11</td>\n",
       "      <td>Bath</td>\n",
       "    </tr>\n",
       "    <tr>\n",
       "      <th>22</th>\n",
       "      <td>6</td>\n",
       "      <td>Home and kitchen</td>\n",
       "      <td>12</td>\n",
       "      <td>Tools</td>\n",
       "    </tr>\n",
       "  </tbody>\n",
       "</table>\n",
       "</div>"
      ],
      "text/plain": [
       "    prod_cat_code          prod_cat  prod_sub_cat_code          prod_subcat\n",
       "0               1          Clothing                  4                 Mens\n",
       "1               1          Clothing                  1                Women\n",
       "2               1          Clothing                  3                 Kids\n",
       "3               2          Footwear                  1                 Mens\n",
       "4               2          Footwear                  3                Women\n",
       "5               2          Footwear                  4                 Kids\n",
       "6               3       Electronics                  4              Mobiles\n",
       "7               3       Electronics                  5            Computers\n",
       "8               3       Electronics                  8  Personal Appliances\n",
       "9               3       Electronics                  9              Cameras\n",
       "10              3       Electronics                 10      Audio and video\n",
       "11              4              Bags                  1                 Mens\n",
       "12              4              Bags                  4                Women\n",
       "13              5             Books                  7              Fiction\n",
       "14              5             Books                 12             Academic\n",
       "15              5             Books                 10          Non-Fiction\n",
       "16              5             Books                 11             Children\n",
       "17              5             Books                  3               Comics\n",
       "18              5             Books                  6                  DIY\n",
       "19              6  Home and kitchen                  2           Furnishing\n",
       "20              6  Home and kitchen                 10              Kitchen\n",
       "21              6  Home and kitchen                 11                 Bath\n",
       "22              6  Home and kitchen                 12                Tools"
      ]
     },
     "execution_count": 3,
     "metadata": {},
     "output_type": "execute_result"
    }
   ],
   "source": [
    "Product_hierarchy = pd.read_csv(\"prod_cat_info.csv\")               #  Replace None Values with correct value or method   \n",
    "Product_hierarchy"
   ]
  },
  {
   "cell_type": "code",
   "execution_count": 5,
   "metadata": {
    "colab": {
     "base_uri": "https://localhost:8080/",
     "height": 419
    },
    "executionInfo": {
     "elapsed": 5,
     "status": "ok",
     "timestamp": 1621714652427,
     "user": {
      "displayName": "Muhamed Essam",
      "photoUrl": "",
      "userId": "08424210389974954863"
     },
     "user_tz": -120
    },
    "id": "6lIQm8uEEG2X",
    "outputId": "675e544e-1297-4c0c-dc70-86e1a96e0cc8"
   },
   "outputs": [
    {
     "data": {
      "text/html": [
       "<div>\n",
       "<style scoped>\n",
       "    .dataframe tbody tr th:only-of-type {\n",
       "        vertical-align: middle;\n",
       "    }\n",
       "\n",
       "    .dataframe tbody tr th {\n",
       "        vertical-align: top;\n",
       "    }\n",
       "\n",
       "    .dataframe thead th {\n",
       "        text-align: right;\n",
       "    }\n",
       "</style>\n",
       "<table border=\"1\" class=\"dataframe\">\n",
       "  <thead>\n",
       "    <tr style=\"text-align: right;\">\n",
       "      <th></th>\n",
       "      <th>transaction_id</th>\n",
       "      <th>cust_id</th>\n",
       "      <th>tran_date</th>\n",
       "      <th>prod_subcat_code</th>\n",
       "      <th>prod_cat_code</th>\n",
       "      <th>Qty</th>\n",
       "      <th>Rate</th>\n",
       "      <th>Tax</th>\n",
       "      <th>total_amt</th>\n",
       "      <th>Store_type</th>\n",
       "    </tr>\n",
       "  </thead>\n",
       "  <tbody>\n",
       "    <tr>\n",
       "      <th>0</th>\n",
       "      <td>80712190438</td>\n",
       "      <td>270351</td>\n",
       "      <td>28-02-2014</td>\n",
       "      <td>1</td>\n",
       "      <td>1</td>\n",
       "      <td>-5</td>\n",
       "      <td>-772</td>\n",
       "      <td>405.300</td>\n",
       "      <td>-4265.300</td>\n",
       "      <td>e-Shop</td>\n",
       "    </tr>\n",
       "    <tr>\n",
       "      <th>1</th>\n",
       "      <td>29258453508</td>\n",
       "      <td>270384</td>\n",
       "      <td>27-02-2014</td>\n",
       "      <td>5</td>\n",
       "      <td>3</td>\n",
       "      <td>-5</td>\n",
       "      <td>-1497</td>\n",
       "      <td>785.925</td>\n",
       "      <td>-8270.925</td>\n",
       "      <td>e-Shop</td>\n",
       "    </tr>\n",
       "    <tr>\n",
       "      <th>2</th>\n",
       "      <td>51750724947</td>\n",
       "      <td>273420</td>\n",
       "      <td>24-02-2014</td>\n",
       "      <td>6</td>\n",
       "      <td>5</td>\n",
       "      <td>-2</td>\n",
       "      <td>-791</td>\n",
       "      <td>166.110</td>\n",
       "      <td>-1748.110</td>\n",
       "      <td>TeleShop</td>\n",
       "    </tr>\n",
       "    <tr>\n",
       "      <th>3</th>\n",
       "      <td>93274880719</td>\n",
       "      <td>271509</td>\n",
       "      <td>24-02-2014</td>\n",
       "      <td>11</td>\n",
       "      <td>6</td>\n",
       "      <td>-3</td>\n",
       "      <td>-1363</td>\n",
       "      <td>429.345</td>\n",
       "      <td>-4518.345</td>\n",
       "      <td>e-Shop</td>\n",
       "    </tr>\n",
       "    <tr>\n",
       "      <th>4</th>\n",
       "      <td>51750724947</td>\n",
       "      <td>273420</td>\n",
       "      <td>23-02-2014</td>\n",
       "      <td>6</td>\n",
       "      <td>5</td>\n",
       "      <td>-2</td>\n",
       "      <td>-791</td>\n",
       "      <td>166.110</td>\n",
       "      <td>-1748.110</td>\n",
       "      <td>TeleShop</td>\n",
       "    </tr>\n",
       "    <tr>\n",
       "      <th>...</th>\n",
       "      <td>...</td>\n",
       "      <td>...</td>\n",
       "      <td>...</td>\n",
       "      <td>...</td>\n",
       "      <td>...</td>\n",
       "      <td>...</td>\n",
       "      <td>...</td>\n",
       "      <td>...</td>\n",
       "      <td>...</td>\n",
       "      <td>...</td>\n",
       "    </tr>\n",
       "    <tr>\n",
       "      <th>23048</th>\n",
       "      <td>94340757522</td>\n",
       "      <td>274550</td>\n",
       "      <td>25-01-2011</td>\n",
       "      <td>12</td>\n",
       "      <td>5</td>\n",
       "      <td>1</td>\n",
       "      <td>1264</td>\n",
       "      <td>132.720</td>\n",
       "      <td>1396.720</td>\n",
       "      <td>e-Shop</td>\n",
       "    </tr>\n",
       "    <tr>\n",
       "      <th>23049</th>\n",
       "      <td>89780862956</td>\n",
       "      <td>270022</td>\n",
       "      <td>25-01-2011</td>\n",
       "      <td>4</td>\n",
       "      <td>1</td>\n",
       "      <td>1</td>\n",
       "      <td>677</td>\n",
       "      <td>71.085</td>\n",
       "      <td>748.085</td>\n",
       "      <td>e-Shop</td>\n",
       "    </tr>\n",
       "    <tr>\n",
       "      <th>23050</th>\n",
       "      <td>85115299378</td>\n",
       "      <td>271020</td>\n",
       "      <td>25-01-2011</td>\n",
       "      <td>2</td>\n",
       "      <td>6</td>\n",
       "      <td>4</td>\n",
       "      <td>1052</td>\n",
       "      <td>441.840</td>\n",
       "      <td>4649.840</td>\n",
       "      <td>MBR</td>\n",
       "    </tr>\n",
       "    <tr>\n",
       "      <th>23051</th>\n",
       "      <td>72870271171</td>\n",
       "      <td>270911</td>\n",
       "      <td>25-01-2011</td>\n",
       "      <td>11</td>\n",
       "      <td>5</td>\n",
       "      <td>3</td>\n",
       "      <td>1142</td>\n",
       "      <td>359.730</td>\n",
       "      <td>3785.730</td>\n",
       "      <td>TeleShop</td>\n",
       "    </tr>\n",
       "    <tr>\n",
       "      <th>23052</th>\n",
       "      <td>77960931771</td>\n",
       "      <td>271961</td>\n",
       "      <td>25-01-2011</td>\n",
       "      <td>11</td>\n",
       "      <td>5</td>\n",
       "      <td>1</td>\n",
       "      <td>447</td>\n",
       "      <td>46.935</td>\n",
       "      <td>493.935</td>\n",
       "      <td>TeleShop</td>\n",
       "    </tr>\n",
       "  </tbody>\n",
       "</table>\n",
       "<p>23053 rows × 10 columns</p>\n",
       "</div>"
      ],
      "text/plain": [
       "       transaction_id  cust_id   tran_date  prod_subcat_code  prod_cat_code  \\\n",
       "0         80712190438   270351  28-02-2014                 1              1   \n",
       "1         29258453508   270384  27-02-2014                 5              3   \n",
       "2         51750724947   273420  24-02-2014                 6              5   \n",
       "3         93274880719   271509  24-02-2014                11              6   \n",
       "4         51750724947   273420  23-02-2014                 6              5   \n",
       "...               ...      ...         ...               ...            ...   \n",
       "23048     94340757522   274550  25-01-2011                12              5   \n",
       "23049     89780862956   270022  25-01-2011                 4              1   \n",
       "23050     85115299378   271020  25-01-2011                 2              6   \n",
       "23051     72870271171   270911  25-01-2011                11              5   \n",
       "23052     77960931771   271961  25-01-2011                11              5   \n",
       "\n",
       "       Qty  Rate      Tax  total_amt Store_type  \n",
       "0       -5  -772  405.300  -4265.300     e-Shop  \n",
       "1       -5 -1497  785.925  -8270.925     e-Shop  \n",
       "2       -2  -791  166.110  -1748.110   TeleShop  \n",
       "3       -3 -1363  429.345  -4518.345     e-Shop  \n",
       "4       -2  -791  166.110  -1748.110   TeleShop  \n",
       "...    ...   ...      ...        ...        ...  \n",
       "23048    1  1264  132.720   1396.720     e-Shop  \n",
       "23049    1   677   71.085    748.085     e-Shop  \n",
       "23050    4  1052  441.840   4649.840        MBR  \n",
       "23051    3  1142  359.730   3785.730   TeleShop  \n",
       "23052    1   447   46.935    493.935   TeleShop  \n",
       "\n",
       "[23053 rows x 10 columns]"
      ]
     },
     "execution_count": 5,
     "metadata": {},
     "output_type": "execute_result"
    }
   ],
   "source": [
    "Transaction = pd.read_csv(\"Transactions.csv\")                 #  Replace None Values with correct value or method   \n",
    "Transaction"
   ]
  },
  {
   "cell_type": "code",
   "execution_count": 6,
   "metadata": {
    "id": "xaRaVF3VEG2X"
   },
   "outputs": [],
   "source": [
    "# 1. Merging\n",
    "Customer_Trans = pd.merge(left = Customer,\n",
    "                          right = Transaction,\n",
    "                          left_on = 'customer_Id',\n",
    "                          right_on = 'cust_id',              #  Replace None Values with correct value or method   \n",
    "                          how = 'inner',\n",
    "                          indicator = True)"
   ]
  },
  {
   "cell_type": "code",
   "execution_count": 7,
   "metadata": {
    "colab": {
     "base_uri": "https://localhost:8080/",
     "height": 779
    },
    "executionInfo": {
     "elapsed": 6,
     "status": "ok",
     "timestamp": 1621714652862,
     "user": {
      "displayName": "Muhamed Essam",
      "photoUrl": "",
      "userId": "08424210389974954863"
     },
     "user_tz": -120
    },
    "id": "HUWYNTOXEG2Y",
    "outputId": "a9fe9eba-1c59-4034-8073-766cefdc451a"
   },
   "outputs": [
    {
     "data": {
      "text/html": [
       "<div>\n",
       "<style scoped>\n",
       "    .dataframe tbody tr th:only-of-type {\n",
       "        vertical-align: middle;\n",
       "    }\n",
       "\n",
       "    .dataframe tbody tr th {\n",
       "        vertical-align: top;\n",
       "    }\n",
       "\n",
       "    .dataframe thead th {\n",
       "        text-align: right;\n",
       "    }\n",
       "</style>\n",
       "<table border=\"1\" class=\"dataframe\">\n",
       "  <thead>\n",
       "    <tr style=\"text-align: right;\">\n",
       "      <th></th>\n",
       "      <th>customer_Id</th>\n",
       "      <th>DOB</th>\n",
       "      <th>Gender</th>\n",
       "      <th>city_code</th>\n",
       "      <th>transaction_id</th>\n",
       "      <th>cust_id</th>\n",
       "      <th>tran_date</th>\n",
       "      <th>prod_subcat_code</th>\n",
       "      <th>prod_cat_code</th>\n",
       "      <th>Qty</th>\n",
       "      <th>Rate</th>\n",
       "      <th>Tax</th>\n",
       "      <th>total_amt</th>\n",
       "      <th>Store_type</th>\n",
       "      <th>_merge</th>\n",
       "    </tr>\n",
       "  </thead>\n",
       "  <tbody>\n",
       "    <tr>\n",
       "      <th>0</th>\n",
       "      <td>268408</td>\n",
       "      <td>2-1-70</td>\n",
       "      <td>M</td>\n",
       "      <td>4.0</td>\n",
       "      <td>87243835584</td>\n",
       "      <td>268408</td>\n",
       "      <td>13-01-2014</td>\n",
       "      <td>7</td>\n",
       "      <td>5</td>\n",
       "      <td>5</td>\n",
       "      <td>187</td>\n",
       "      <td>98.175</td>\n",
       "      <td>1033.175</td>\n",
       "      <td>TeleShop</td>\n",
       "      <td>both</td>\n",
       "    </tr>\n",
       "    <tr>\n",
       "      <th>1</th>\n",
       "      <td>268408</td>\n",
       "      <td>2-1-70</td>\n",
       "      <td>M</td>\n",
       "      <td>4.0</td>\n",
       "      <td>16197868036</td>\n",
       "      <td>268408</td>\n",
       "      <td>16-12-2013</td>\n",
       "      <td>1</td>\n",
       "      <td>4</td>\n",
       "      <td>-5</td>\n",
       "      <td>-210</td>\n",
       "      <td>110.250</td>\n",
       "      <td>-1160.250</td>\n",
       "      <td>Flagship store</td>\n",
       "      <td>both</td>\n",
       "    </tr>\n",
       "    <tr>\n",
       "      <th>2</th>\n",
       "      <td>268408</td>\n",
       "      <td>2-1-70</td>\n",
       "      <td>M</td>\n",
       "      <td>4.0</td>\n",
       "      <td>16197868036</td>\n",
       "      <td>268408</td>\n",
       "      <td>12/12/2013</td>\n",
       "      <td>1</td>\n",
       "      <td>4</td>\n",
       "      <td>5</td>\n",
       "      <td>210</td>\n",
       "      <td>110.250</td>\n",
       "      <td>1160.250</td>\n",
       "      <td>Flagship store</td>\n",
       "      <td>both</td>\n",
       "    </tr>\n",
       "    <tr>\n",
       "      <th>3</th>\n",
       "      <td>268408</td>\n",
       "      <td>2-1-70</td>\n",
       "      <td>M</td>\n",
       "      <td>4.0</td>\n",
       "      <td>28810141075</td>\n",
       "      <td>268408</td>\n",
       "      <td>2/9/2013</td>\n",
       "      <td>10</td>\n",
       "      <td>6</td>\n",
       "      <td>2</td>\n",
       "      <td>813</td>\n",
       "      <td>170.730</td>\n",
       "      <td>1796.730</td>\n",
       "      <td>TeleShop</td>\n",
       "      <td>both</td>\n",
       "    </tr>\n",
       "    <tr>\n",
       "      <th>4</th>\n",
       "      <td>268408</td>\n",
       "      <td>2-1-70</td>\n",
       "      <td>M</td>\n",
       "      <td>4.0</td>\n",
       "      <td>64633435931</td>\n",
       "      <td>268408</td>\n",
       "      <td>6/5/2013</td>\n",
       "      <td>4</td>\n",
       "      <td>2</td>\n",
       "      <td>3</td>\n",
       "      <td>312</td>\n",
       "      <td>98.280</td>\n",
       "      <td>1034.280</td>\n",
       "      <td>Flagship store</td>\n",
       "      <td>both</td>\n",
       "    </tr>\n",
       "    <tr>\n",
       "      <th>...</th>\n",
       "      <td>...</td>\n",
       "      <td>...</td>\n",
       "      <td>...</td>\n",
       "      <td>...</td>\n",
       "      <td>...</td>\n",
       "      <td>...</td>\n",
       "      <td>...</td>\n",
       "      <td>...</td>\n",
       "      <td>...</td>\n",
       "      <td>...</td>\n",
       "      <td>...</td>\n",
       "      <td>...</td>\n",
       "      <td>...</td>\n",
       "      <td>...</td>\n",
       "      <td>...</td>\n",
       "    </tr>\n",
       "    <tr>\n",
       "      <th>23048</th>\n",
       "      <td>269626</td>\n",
       "      <td>27-12-92</td>\n",
       "      <td>F</td>\n",
       "      <td>5.0</td>\n",
       "      <td>71369029396</td>\n",
       "      <td>269626</td>\n",
       "      <td>18-10-2011</td>\n",
       "      <td>12</td>\n",
       "      <td>6</td>\n",
       "      <td>1</td>\n",
       "      <td>638</td>\n",
       "      <td>66.990</td>\n",
       "      <td>704.990</td>\n",
       "      <td>e-Shop</td>\n",
       "      <td>both</td>\n",
       "    </tr>\n",
       "    <tr>\n",
       "      <th>23049</th>\n",
       "      <td>269626</td>\n",
       "      <td>27-12-92</td>\n",
       "      <td>F</td>\n",
       "      <td>5.0</td>\n",
       "      <td>94134051896</td>\n",
       "      <td>269626</td>\n",
       "      <td>7/7/2011</td>\n",
       "      <td>3</td>\n",
       "      <td>1</td>\n",
       "      <td>3</td>\n",
       "      <td>1078</td>\n",
       "      <td>339.570</td>\n",
       "      <td>3573.570</td>\n",
       "      <td>MBR</td>\n",
       "      <td>both</td>\n",
       "    </tr>\n",
       "    <tr>\n",
       "      <th>23050</th>\n",
       "      <td>274308</td>\n",
       "      <td>29-12-92</td>\n",
       "      <td>F</td>\n",
       "      <td>5.0</td>\n",
       "      <td>26208690928</td>\n",
       "      <td>274308</td>\n",
       "      <td>22-10-2012</td>\n",
       "      <td>1</td>\n",
       "      <td>2</td>\n",
       "      <td>2</td>\n",
       "      <td>898</td>\n",
       "      <td>188.580</td>\n",
       "      <td>1984.580</td>\n",
       "      <td>MBR</td>\n",
       "      <td>both</td>\n",
       "    </tr>\n",
       "    <tr>\n",
       "      <th>23051</th>\n",
       "      <td>274308</td>\n",
       "      <td>29-12-92</td>\n",
       "      <td>F</td>\n",
       "      <td>5.0</td>\n",
       "      <td>57358822237</td>\n",
       "      <td>274308</td>\n",
       "      <td>5/9/2012</td>\n",
       "      <td>1</td>\n",
       "      <td>2</td>\n",
       "      <td>4</td>\n",
       "      <td>876</td>\n",
       "      <td>367.920</td>\n",
       "      <td>3871.920</td>\n",
       "      <td>e-Shop</td>\n",
       "      <td>both</td>\n",
       "    </tr>\n",
       "    <tr>\n",
       "      <th>23052</th>\n",
       "      <td>274308</td>\n",
       "      <td>29-12-92</td>\n",
       "      <td>F</td>\n",
       "      <td>5.0</td>\n",
       "      <td>58160544337</td>\n",
       "      <td>274308</td>\n",
       "      <td>4/7/2012</td>\n",
       "      <td>12</td>\n",
       "      <td>5</td>\n",
       "      <td>5</td>\n",
       "      <td>588</td>\n",
       "      <td>308.700</td>\n",
       "      <td>3248.700</td>\n",
       "      <td>e-Shop</td>\n",
       "      <td>both</td>\n",
       "    </tr>\n",
       "  </tbody>\n",
       "</table>\n",
       "<p>23053 rows × 15 columns</p>\n",
       "</div>"
      ],
      "text/plain": [
       "       customer_Id       DOB Gender  city_code  transaction_id  cust_id  \\\n",
       "0           268408    2-1-70      M        4.0     87243835584   268408   \n",
       "1           268408    2-1-70      M        4.0     16197868036   268408   \n",
       "2           268408    2-1-70      M        4.0     16197868036   268408   \n",
       "3           268408    2-1-70      M        4.0     28810141075   268408   \n",
       "4           268408    2-1-70      M        4.0     64633435931   268408   \n",
       "...            ...       ...    ...        ...             ...      ...   \n",
       "23048       269626  27-12-92      F        5.0     71369029396   269626   \n",
       "23049       269626  27-12-92      F        5.0     94134051896   269626   \n",
       "23050       274308  29-12-92      F        5.0     26208690928   274308   \n",
       "23051       274308  29-12-92      F        5.0     57358822237   274308   \n",
       "23052       274308  29-12-92      F        5.0     58160544337   274308   \n",
       "\n",
       "        tran_date  prod_subcat_code  prod_cat_code  Qty  Rate      Tax  \\\n",
       "0      13-01-2014                 7              5    5   187   98.175   \n",
       "1      16-12-2013                 1              4   -5  -210  110.250   \n",
       "2      12/12/2013                 1              4    5   210  110.250   \n",
       "3        2/9/2013                10              6    2   813  170.730   \n",
       "4        6/5/2013                 4              2    3   312   98.280   \n",
       "...           ...               ...            ...  ...   ...      ...   \n",
       "23048  18-10-2011                12              6    1   638   66.990   \n",
       "23049    7/7/2011                 3              1    3  1078  339.570   \n",
       "23050  22-10-2012                 1              2    2   898  188.580   \n",
       "23051    5/9/2012                 1              2    4   876  367.920   \n",
       "23052    4/7/2012                12              5    5   588  308.700   \n",
       "\n",
       "       total_amt      Store_type _merge  \n",
       "0       1033.175        TeleShop   both  \n",
       "1      -1160.250  Flagship store   both  \n",
       "2       1160.250  Flagship store   both  \n",
       "3       1796.730        TeleShop   both  \n",
       "4       1034.280  Flagship store   both  \n",
       "...          ...             ...    ...  \n",
       "23048    704.990          e-Shop   both  \n",
       "23049   3573.570             MBR   both  \n",
       "23050   1984.580             MBR   both  \n",
       "23051   3871.920          e-Shop   both  \n",
       "23052   3248.700          e-Shop   both  \n",
       "\n",
       "[23053 rows x 15 columns]"
      ]
     },
     "execution_count": 7,
     "metadata": {},
     "output_type": "execute_result"
    }
   ],
   "source": [
    "Customer_Trans"
   ]
  },
  {
   "cell_type": "code",
   "execution_count": 8,
   "metadata": {
    "id": "GNI1CXRSEG2Y"
   },
   "outputs": [],
   "source": [
    "Customer_Final = pd.merge(left = Customer_Trans,\n",
    "                          right = Product_hierarchy ,\n",
    "                          left_on = 'prod_cat_code',\n",
    "                          right_on ='prod_cat_code',                   #  Replace None Values with correct value or method   \n",
    "                          how = 'inner'\n",
    "                          )\n",
    "                          "
   ]
  },
  {
   "cell_type": "code",
   "execution_count": null,
   "metadata": {
    "colab": {
     "base_uri": "https://localhost:8080/",
     "height": 779
    },
    "executionInfo": {
     "elapsed": 5,
     "status": "ok",
     "timestamp": 1621714653435,
     "user": {
      "displayName": "Muhamed Essam",
      "photoUrl": "",
      "userId": "08424210389974954863"
     },
     "user_tz": -120
    },
    "id": "YQTC7WllEG2Y",
    "outputId": "2843afff-0f0c-4461-9d6a-45a52dbcd20e"
   },
   "outputs": [
    {
     "data": {
      "text/html": [
       "<div>\n",
       "<style scoped>\n",
       "    .dataframe tbody tr th:only-of-type {\n",
       "        vertical-align: middle;\n",
       "    }\n",
       "\n",
       "    .dataframe tbody tr th {\n",
       "        vertical-align: top;\n",
       "    }\n",
       "\n",
       "    .dataframe thead th {\n",
       "        text-align: right;\n",
       "    }\n",
       "</style>\n",
       "<table border=\"1\" class=\"dataframe\">\n",
       "  <thead>\n",
       "    <tr style=\"text-align: right;\">\n",
       "      <th></th>\n",
       "      <th>customer_Id</th>\n",
       "      <th>DOB</th>\n",
       "      <th>Gender</th>\n",
       "      <th>city_code</th>\n",
       "      <th>transaction_id</th>\n",
       "      <th>cust_id</th>\n",
       "      <th>tran_date</th>\n",
       "      <th>prod_subcat_code</th>\n",
       "      <th>prod_cat_code</th>\n",
       "      <th>Qty</th>\n",
       "      <th>Rate</th>\n",
       "      <th>Tax</th>\n",
       "      <th>total_amt</th>\n",
       "      <th>Store_type</th>\n",
       "      <th>_merge</th>\n",
       "      <th>prod_cat</th>\n",
       "      <th>prod_sub_cat_code</th>\n",
       "      <th>prod_subcat</th>\n",
       "    </tr>\n",
       "  </thead>\n",
       "  <tbody>\n",
       "    <tr>\n",
       "      <th>0</th>\n",
       "      <td>268408</td>\n",
       "      <td>2-1-70</td>\n",
       "      <td>M</td>\n",
       "      <td>4.0</td>\n",
       "      <td>87243835584</td>\n",
       "      <td>268408</td>\n",
       "      <td>13-01-2014</td>\n",
       "      <td>7</td>\n",
       "      <td>5</td>\n",
       "      <td>5</td>\n",
       "      <td>187</td>\n",
       "      <td>98.175</td>\n",
       "      <td>1033.175</td>\n",
       "      <td>TeleShop</td>\n",
       "      <td>both</td>\n",
       "      <td>Books</td>\n",
       "      <td>7</td>\n",
       "      <td>Fiction</td>\n",
       "    </tr>\n",
       "    <tr>\n",
       "      <th>1</th>\n",
       "      <td>268408</td>\n",
       "      <td>2-1-70</td>\n",
       "      <td>M</td>\n",
       "      <td>4.0</td>\n",
       "      <td>87243835584</td>\n",
       "      <td>268408</td>\n",
       "      <td>13-01-2014</td>\n",
       "      <td>7</td>\n",
       "      <td>5</td>\n",
       "      <td>5</td>\n",
       "      <td>187</td>\n",
       "      <td>98.175</td>\n",
       "      <td>1033.175</td>\n",
       "      <td>TeleShop</td>\n",
       "      <td>both</td>\n",
       "      <td>Books</td>\n",
       "      <td>12</td>\n",
       "      <td>Academic</td>\n",
       "    </tr>\n",
       "    <tr>\n",
       "      <th>2</th>\n",
       "      <td>268408</td>\n",
       "      <td>2-1-70</td>\n",
       "      <td>M</td>\n",
       "      <td>4.0</td>\n",
       "      <td>87243835584</td>\n",
       "      <td>268408</td>\n",
       "      <td>13-01-2014</td>\n",
       "      <td>7</td>\n",
       "      <td>5</td>\n",
       "      <td>5</td>\n",
       "      <td>187</td>\n",
       "      <td>98.175</td>\n",
       "      <td>1033.175</td>\n",
       "      <td>TeleShop</td>\n",
       "      <td>both</td>\n",
       "      <td>Books</td>\n",
       "      <td>10</td>\n",
       "      <td>Non-Fiction</td>\n",
       "    </tr>\n",
       "    <tr>\n",
       "      <th>3</th>\n",
       "      <td>268408</td>\n",
       "      <td>2-1-70</td>\n",
       "      <td>M</td>\n",
       "      <td>4.0</td>\n",
       "      <td>87243835584</td>\n",
       "      <td>268408</td>\n",
       "      <td>13-01-2014</td>\n",
       "      <td>7</td>\n",
       "      <td>5</td>\n",
       "      <td>5</td>\n",
       "      <td>187</td>\n",
       "      <td>98.175</td>\n",
       "      <td>1033.175</td>\n",
       "      <td>TeleShop</td>\n",
       "      <td>both</td>\n",
       "      <td>Books</td>\n",
       "      <td>11</td>\n",
       "      <td>Children</td>\n",
       "    </tr>\n",
       "    <tr>\n",
       "      <th>4</th>\n",
       "      <td>268408</td>\n",
       "      <td>2-1-70</td>\n",
       "      <td>M</td>\n",
       "      <td>4.0</td>\n",
       "      <td>87243835584</td>\n",
       "      <td>268408</td>\n",
       "      <td>13-01-2014</td>\n",
       "      <td>7</td>\n",
       "      <td>5</td>\n",
       "      <td>5</td>\n",
       "      <td>187</td>\n",
       "      <td>98.175</td>\n",
       "      <td>1033.175</td>\n",
       "      <td>TeleShop</td>\n",
       "      <td>both</td>\n",
       "      <td>Books</td>\n",
       "      <td>3</td>\n",
       "      <td>Comics</td>\n",
       "    </tr>\n",
       "    <tr>\n",
       "      <th>...</th>\n",
       "      <td>...</td>\n",
       "      <td>...</td>\n",
       "      <td>...</td>\n",
       "      <td>...</td>\n",
       "      <td>...</td>\n",
       "      <td>...</td>\n",
       "      <td>...</td>\n",
       "      <td>...</td>\n",
       "      <td>...</td>\n",
       "      <td>...</td>\n",
       "      <td>...</td>\n",
       "      <td>...</td>\n",
       "      <td>...</td>\n",
       "      <td>...</td>\n",
       "      <td>...</td>\n",
       "      <td>...</td>\n",
       "      <td>...</td>\n",
       "      <td>...</td>\n",
       "    </tr>\n",
       "    <tr>\n",
       "      <th>99288</th>\n",
       "      <td>271772</td>\n",
       "      <td>17-12-92</td>\n",
       "      <td>M</td>\n",
       "      <td>2.0</td>\n",
       "      <td>10440850091</td>\n",
       "      <td>271772</td>\n",
       "      <td>26-04-2013</td>\n",
       "      <td>4</td>\n",
       "      <td>1</td>\n",
       "      <td>4</td>\n",
       "      <td>819</td>\n",
       "      <td>343.980</td>\n",
       "      <td>3619.980</td>\n",
       "      <td>Flagship store</td>\n",
       "      <td>both</td>\n",
       "      <td>Clothing</td>\n",
       "      <td>1</td>\n",
       "      <td>Women</td>\n",
       "    </tr>\n",
       "    <tr>\n",
       "      <th>99289</th>\n",
       "      <td>271772</td>\n",
       "      <td>17-12-92</td>\n",
       "      <td>M</td>\n",
       "      <td>2.0</td>\n",
       "      <td>10440850091</td>\n",
       "      <td>271772</td>\n",
       "      <td>26-04-2013</td>\n",
       "      <td>4</td>\n",
       "      <td>1</td>\n",
       "      <td>4</td>\n",
       "      <td>819</td>\n",
       "      <td>343.980</td>\n",
       "      <td>3619.980</td>\n",
       "      <td>Flagship store</td>\n",
       "      <td>both</td>\n",
       "      <td>Clothing</td>\n",
       "      <td>3</td>\n",
       "      <td>Kids</td>\n",
       "    </tr>\n",
       "    <tr>\n",
       "      <th>99290</th>\n",
       "      <td>269626</td>\n",
       "      <td>27-12-92</td>\n",
       "      <td>F</td>\n",
       "      <td>5.0</td>\n",
       "      <td>94134051896</td>\n",
       "      <td>269626</td>\n",
       "      <td>7/7/2011</td>\n",
       "      <td>3</td>\n",
       "      <td>1</td>\n",
       "      <td>3</td>\n",
       "      <td>1078</td>\n",
       "      <td>339.570</td>\n",
       "      <td>3573.570</td>\n",
       "      <td>MBR</td>\n",
       "      <td>both</td>\n",
       "      <td>Clothing</td>\n",
       "      <td>4</td>\n",
       "      <td>Mens</td>\n",
       "    </tr>\n",
       "    <tr>\n",
       "      <th>99291</th>\n",
       "      <td>269626</td>\n",
       "      <td>27-12-92</td>\n",
       "      <td>F</td>\n",
       "      <td>5.0</td>\n",
       "      <td>94134051896</td>\n",
       "      <td>269626</td>\n",
       "      <td>7/7/2011</td>\n",
       "      <td>3</td>\n",
       "      <td>1</td>\n",
       "      <td>3</td>\n",
       "      <td>1078</td>\n",
       "      <td>339.570</td>\n",
       "      <td>3573.570</td>\n",
       "      <td>MBR</td>\n",
       "      <td>both</td>\n",
       "      <td>Clothing</td>\n",
       "      <td>1</td>\n",
       "      <td>Women</td>\n",
       "    </tr>\n",
       "    <tr>\n",
       "      <th>99292</th>\n",
       "      <td>269626</td>\n",
       "      <td>27-12-92</td>\n",
       "      <td>F</td>\n",
       "      <td>5.0</td>\n",
       "      <td>94134051896</td>\n",
       "      <td>269626</td>\n",
       "      <td>7/7/2011</td>\n",
       "      <td>3</td>\n",
       "      <td>1</td>\n",
       "      <td>3</td>\n",
       "      <td>1078</td>\n",
       "      <td>339.570</td>\n",
       "      <td>3573.570</td>\n",
       "      <td>MBR</td>\n",
       "      <td>both</td>\n",
       "      <td>Clothing</td>\n",
       "      <td>3</td>\n",
       "      <td>Kids</td>\n",
       "    </tr>\n",
       "  </tbody>\n",
       "</table>\n",
       "<p>99293 rows × 18 columns</p>\n",
       "</div>"
      ],
      "text/plain": [
       "       customer_Id       DOB Gender  ...  prod_cat  prod_sub_cat_code  prod_subcat\n",
       "0           268408    2-1-70      M  ...     Books                  7      Fiction\n",
       "1           268408    2-1-70      M  ...     Books                 12     Academic\n",
       "2           268408    2-1-70      M  ...     Books                 10  Non-Fiction\n",
       "3           268408    2-1-70      M  ...     Books                 11     Children\n",
       "4           268408    2-1-70      M  ...     Books                  3       Comics\n",
       "...            ...       ...    ...  ...       ...                ...          ...\n",
       "99288       271772  17-12-92      M  ...  Clothing                  1        Women\n",
       "99289       271772  17-12-92      M  ...  Clothing                  3         Kids\n",
       "99290       269626  27-12-92      F  ...  Clothing                  4         Mens\n",
       "99291       269626  27-12-92      F  ...  Clothing                  1        Women\n",
       "99292       269626  27-12-92      F  ...  Clothing                  3         Kids\n",
       "\n",
       "[99293 rows x 18 columns]"
      ]
     },
     "execution_count": 51,
     "metadata": {
      "tags": []
     },
     "output_type": "execute_result"
    }
   ],
   "source": [
    "Customer_Final"
   ]
  },
  {
   "cell_type": "markdown",
   "metadata": {
    "id": "_xdJ4rP3EG2Z"
   },
   "source": [
    "## Q2. CreateSummary Report\n",
    "1. All Columns with their data-types.\n",
    "2. First 10 Observations.\n",
    "3. Last 10 Observations.\n",
    "4. Description for Numerical Data Columns.\n",
    "5. Frequency Table for Categorical Data Columns.\n",
    "6. Number of Males and Females."
   ]
  },
  {
   "cell_type": "markdown",
   "metadata": {
    "id": "Gq4pV5euEG2Z"
   },
   "source": [
    "\n",
    "### Column names with their data-types\n"
   ]
  },
  {
   "cell_type": "code",
   "execution_count": 9,
   "metadata": {
    "colab": {
     "base_uri": "https://localhost:8080/"
    },
    "executionInfo": {
     "elapsed": 5,
     "status": "ok",
     "timestamp": 1621714653859,
     "user": {
      "displayName": "Muhamed Essam",
      "photoUrl": "",
      "userId": "08424210389974954863"
     },
     "user_tz": -120
    },
    "id": "NeE3K8tvEG2Z",
    "outputId": "5fc3454d-e033-41e3-b694-3319bbe24fc9"
   },
   "outputs": [
    {
     "data": {
      "text/plain": [
       "customer_Id             int64\n",
       "DOB                    object\n",
       "Gender                 object\n",
       "city_code             float64\n",
       "transaction_id          int64\n",
       "cust_id                 int64\n",
       "tran_date              object\n",
       "prod_subcat_code        int64\n",
       "prod_cat_code           int64\n",
       "Qty                     int64\n",
       "Rate                    int64\n",
       "Tax                   float64\n",
       "total_amt             float64\n",
       "Store_type             object\n",
       "_merge               category\n",
       "prod_cat               object\n",
       "prod_sub_cat_code       int64\n",
       "prod_subcat            object\n",
       "dtype: object"
      ]
     },
     "execution_count": 9,
     "metadata": {},
     "output_type": "execute_result"
    }
   ],
   "source": [
    "Customer_Final.dtypes   #  Replace None Values with correct value or method   "
   ]
  },
  {
   "cell_type": "markdown",
   "metadata": {
    "id": "_ntNNa93EG2Z"
   },
   "source": [
    "### First 10 Observations"
   ]
  },
  {
   "cell_type": "code",
   "execution_count": 10,
   "metadata": {
    "colab": {
     "base_uri": "https://localhost:8080/",
     "height": 719
    },
    "executionInfo": {
     "elapsed": 3,
     "status": "ok",
     "timestamp": 1621714653859,
     "user": {
      "displayName": "Muhamed Essam",
      "photoUrl": "",
      "userId": "08424210389974954863"
     },
     "user_tz": -120
    },
    "id": "8cQCp7U_EG2a",
    "outputId": "ea182a50-a5c2-4d56-9b8f-152dfdd9b428"
   },
   "outputs": [
    {
     "data": {
      "text/html": [
       "<div>\n",
       "<style scoped>\n",
       "    .dataframe tbody tr th:only-of-type {\n",
       "        vertical-align: middle;\n",
       "    }\n",
       "\n",
       "    .dataframe tbody tr th {\n",
       "        vertical-align: top;\n",
       "    }\n",
       "\n",
       "    .dataframe thead th {\n",
       "        text-align: right;\n",
       "    }\n",
       "</style>\n",
       "<table border=\"1\" class=\"dataframe\">\n",
       "  <thead>\n",
       "    <tr style=\"text-align: right;\">\n",
       "      <th></th>\n",
       "      <th>customer_Id</th>\n",
       "      <th>DOB</th>\n",
       "      <th>Gender</th>\n",
       "      <th>city_code</th>\n",
       "      <th>transaction_id</th>\n",
       "      <th>cust_id</th>\n",
       "      <th>tran_date</th>\n",
       "      <th>prod_subcat_code</th>\n",
       "      <th>prod_cat_code</th>\n",
       "      <th>Qty</th>\n",
       "      <th>Rate</th>\n",
       "      <th>Tax</th>\n",
       "      <th>total_amt</th>\n",
       "      <th>Store_type</th>\n",
       "      <th>_merge</th>\n",
       "      <th>prod_cat</th>\n",
       "      <th>prod_sub_cat_code</th>\n",
       "      <th>prod_subcat</th>\n",
       "    </tr>\n",
       "  </thead>\n",
       "  <tbody>\n",
       "    <tr>\n",
       "      <th>0</th>\n",
       "      <td>268408</td>\n",
       "      <td>2-1-70</td>\n",
       "      <td>M</td>\n",
       "      <td>4.0</td>\n",
       "      <td>87243835584</td>\n",
       "      <td>268408</td>\n",
       "      <td>13-01-2014</td>\n",
       "      <td>7</td>\n",
       "      <td>5</td>\n",
       "      <td>5</td>\n",
       "      <td>187</td>\n",
       "      <td>98.175</td>\n",
       "      <td>1033.175</td>\n",
       "      <td>TeleShop</td>\n",
       "      <td>both</td>\n",
       "      <td>Books</td>\n",
       "      <td>7</td>\n",
       "      <td>Fiction</td>\n",
       "    </tr>\n",
       "    <tr>\n",
       "      <th>1</th>\n",
       "      <td>268408</td>\n",
       "      <td>2-1-70</td>\n",
       "      <td>M</td>\n",
       "      <td>4.0</td>\n",
       "      <td>87243835584</td>\n",
       "      <td>268408</td>\n",
       "      <td>13-01-2014</td>\n",
       "      <td>7</td>\n",
       "      <td>5</td>\n",
       "      <td>5</td>\n",
       "      <td>187</td>\n",
       "      <td>98.175</td>\n",
       "      <td>1033.175</td>\n",
       "      <td>TeleShop</td>\n",
       "      <td>both</td>\n",
       "      <td>Books</td>\n",
       "      <td>12</td>\n",
       "      <td>Academic</td>\n",
       "    </tr>\n",
       "    <tr>\n",
       "      <th>2</th>\n",
       "      <td>268408</td>\n",
       "      <td>2-1-70</td>\n",
       "      <td>M</td>\n",
       "      <td>4.0</td>\n",
       "      <td>87243835584</td>\n",
       "      <td>268408</td>\n",
       "      <td>13-01-2014</td>\n",
       "      <td>7</td>\n",
       "      <td>5</td>\n",
       "      <td>5</td>\n",
       "      <td>187</td>\n",
       "      <td>98.175</td>\n",
       "      <td>1033.175</td>\n",
       "      <td>TeleShop</td>\n",
       "      <td>both</td>\n",
       "      <td>Books</td>\n",
       "      <td>10</td>\n",
       "      <td>Non-Fiction</td>\n",
       "    </tr>\n",
       "    <tr>\n",
       "      <th>3</th>\n",
       "      <td>268408</td>\n",
       "      <td>2-1-70</td>\n",
       "      <td>M</td>\n",
       "      <td>4.0</td>\n",
       "      <td>87243835584</td>\n",
       "      <td>268408</td>\n",
       "      <td>13-01-2014</td>\n",
       "      <td>7</td>\n",
       "      <td>5</td>\n",
       "      <td>5</td>\n",
       "      <td>187</td>\n",
       "      <td>98.175</td>\n",
       "      <td>1033.175</td>\n",
       "      <td>TeleShop</td>\n",
       "      <td>both</td>\n",
       "      <td>Books</td>\n",
       "      <td>11</td>\n",
       "      <td>Children</td>\n",
       "    </tr>\n",
       "    <tr>\n",
       "      <th>4</th>\n",
       "      <td>268408</td>\n",
       "      <td>2-1-70</td>\n",
       "      <td>M</td>\n",
       "      <td>4.0</td>\n",
       "      <td>87243835584</td>\n",
       "      <td>268408</td>\n",
       "      <td>13-01-2014</td>\n",
       "      <td>7</td>\n",
       "      <td>5</td>\n",
       "      <td>5</td>\n",
       "      <td>187</td>\n",
       "      <td>98.175</td>\n",
       "      <td>1033.175</td>\n",
       "      <td>TeleShop</td>\n",
       "      <td>both</td>\n",
       "      <td>Books</td>\n",
       "      <td>3</td>\n",
       "      <td>Comics</td>\n",
       "    </tr>\n",
       "    <tr>\n",
       "      <th>5</th>\n",
       "      <td>268408</td>\n",
       "      <td>2-1-70</td>\n",
       "      <td>M</td>\n",
       "      <td>4.0</td>\n",
       "      <td>87243835584</td>\n",
       "      <td>268408</td>\n",
       "      <td>13-01-2014</td>\n",
       "      <td>7</td>\n",
       "      <td>5</td>\n",
       "      <td>5</td>\n",
       "      <td>187</td>\n",
       "      <td>98.175</td>\n",
       "      <td>1033.175</td>\n",
       "      <td>TeleShop</td>\n",
       "      <td>both</td>\n",
       "      <td>Books</td>\n",
       "      <td>6</td>\n",
       "      <td>DIY</td>\n",
       "    </tr>\n",
       "    <tr>\n",
       "      <th>6</th>\n",
       "      <td>268159</td>\n",
       "      <td>8-1-70</td>\n",
       "      <td>F</td>\n",
       "      <td>8.0</td>\n",
       "      <td>65867401816</td>\n",
       "      <td>268159</td>\n",
       "      <td>31-03-2013</td>\n",
       "      <td>11</td>\n",
       "      <td>5</td>\n",
       "      <td>5</td>\n",
       "      <td>214</td>\n",
       "      <td>112.350</td>\n",
       "      <td>1182.350</td>\n",
       "      <td>MBR</td>\n",
       "      <td>both</td>\n",
       "      <td>Books</td>\n",
       "      <td>7</td>\n",
       "      <td>Fiction</td>\n",
       "    </tr>\n",
       "    <tr>\n",
       "      <th>7</th>\n",
       "      <td>268159</td>\n",
       "      <td>8-1-70</td>\n",
       "      <td>F</td>\n",
       "      <td>8.0</td>\n",
       "      <td>65867401816</td>\n",
       "      <td>268159</td>\n",
       "      <td>31-03-2013</td>\n",
       "      <td>11</td>\n",
       "      <td>5</td>\n",
       "      <td>5</td>\n",
       "      <td>214</td>\n",
       "      <td>112.350</td>\n",
       "      <td>1182.350</td>\n",
       "      <td>MBR</td>\n",
       "      <td>both</td>\n",
       "      <td>Books</td>\n",
       "      <td>12</td>\n",
       "      <td>Academic</td>\n",
       "    </tr>\n",
       "    <tr>\n",
       "      <th>8</th>\n",
       "      <td>268159</td>\n",
       "      <td>8-1-70</td>\n",
       "      <td>F</td>\n",
       "      <td>8.0</td>\n",
       "      <td>65867401816</td>\n",
       "      <td>268159</td>\n",
       "      <td>31-03-2013</td>\n",
       "      <td>11</td>\n",
       "      <td>5</td>\n",
       "      <td>5</td>\n",
       "      <td>214</td>\n",
       "      <td>112.350</td>\n",
       "      <td>1182.350</td>\n",
       "      <td>MBR</td>\n",
       "      <td>both</td>\n",
       "      <td>Books</td>\n",
       "      <td>10</td>\n",
       "      <td>Non-Fiction</td>\n",
       "    </tr>\n",
       "    <tr>\n",
       "      <th>9</th>\n",
       "      <td>268159</td>\n",
       "      <td>8-1-70</td>\n",
       "      <td>F</td>\n",
       "      <td>8.0</td>\n",
       "      <td>65867401816</td>\n",
       "      <td>268159</td>\n",
       "      <td>31-03-2013</td>\n",
       "      <td>11</td>\n",
       "      <td>5</td>\n",
       "      <td>5</td>\n",
       "      <td>214</td>\n",
       "      <td>112.350</td>\n",
       "      <td>1182.350</td>\n",
       "      <td>MBR</td>\n",
       "      <td>both</td>\n",
       "      <td>Books</td>\n",
       "      <td>11</td>\n",
       "      <td>Children</td>\n",
       "    </tr>\n",
       "  </tbody>\n",
       "</table>\n",
       "</div>"
      ],
      "text/plain": [
       "   customer_Id     DOB Gender  city_code  transaction_id  cust_id   tran_date  \\\n",
       "0       268408  2-1-70      M        4.0     87243835584   268408  13-01-2014   \n",
       "1       268408  2-1-70      M        4.0     87243835584   268408  13-01-2014   \n",
       "2       268408  2-1-70      M        4.0     87243835584   268408  13-01-2014   \n",
       "3       268408  2-1-70      M        4.0     87243835584   268408  13-01-2014   \n",
       "4       268408  2-1-70      M        4.0     87243835584   268408  13-01-2014   \n",
       "5       268408  2-1-70      M        4.0     87243835584   268408  13-01-2014   \n",
       "6       268159  8-1-70      F        8.0     65867401816   268159  31-03-2013   \n",
       "7       268159  8-1-70      F        8.0     65867401816   268159  31-03-2013   \n",
       "8       268159  8-1-70      F        8.0     65867401816   268159  31-03-2013   \n",
       "9       268159  8-1-70      F        8.0     65867401816   268159  31-03-2013   \n",
       "\n",
       "   prod_subcat_code  prod_cat_code  Qty  Rate      Tax  total_amt Store_type  \\\n",
       "0                 7              5    5   187   98.175   1033.175   TeleShop   \n",
       "1                 7              5    5   187   98.175   1033.175   TeleShop   \n",
       "2                 7              5    5   187   98.175   1033.175   TeleShop   \n",
       "3                 7              5    5   187   98.175   1033.175   TeleShop   \n",
       "4                 7              5    5   187   98.175   1033.175   TeleShop   \n",
       "5                 7              5    5   187   98.175   1033.175   TeleShop   \n",
       "6                11              5    5   214  112.350   1182.350        MBR   \n",
       "7                11              5    5   214  112.350   1182.350        MBR   \n",
       "8                11              5    5   214  112.350   1182.350        MBR   \n",
       "9                11              5    5   214  112.350   1182.350        MBR   \n",
       "\n",
       "  _merge prod_cat  prod_sub_cat_code  prod_subcat  \n",
       "0   both    Books                  7      Fiction  \n",
       "1   both    Books                 12     Academic  \n",
       "2   both    Books                 10  Non-Fiction  \n",
       "3   both    Books                 11     Children  \n",
       "4   both    Books                  3       Comics  \n",
       "5   both    Books                  6          DIY  \n",
       "6   both    Books                  7      Fiction  \n",
       "7   both    Books                 12     Academic  \n",
       "8   both    Books                 10  Non-Fiction  \n",
       "9   both    Books                 11     Children  "
      ]
     },
     "execution_count": 10,
     "metadata": {},
     "output_type": "execute_result"
    }
   ],
   "source": [
    "Customer_Final.head(10)    #  Replace None Values with correct value or method   "
   ]
  },
  {
   "cell_type": "markdown",
   "metadata": {
    "id": "-YKbGBLpEG2a"
   },
   "source": [
    "### 10 Bottom Observations"
   ]
  },
  {
   "cell_type": "code",
   "execution_count": 11,
   "metadata": {
    "colab": {
     "base_uri": "https://localhost:8080/",
     "height": 719
    },
    "executionInfo": {
     "elapsed": 4,
     "status": "ok",
     "timestamp": 1621714654347,
     "user": {
      "displayName": "Muhamed Essam",
      "photoUrl": "",
      "userId": "08424210389974954863"
     },
     "user_tz": -120
    },
    "id": "ganXtiHvEG2a",
    "outputId": "a90ee8c0-d918-4104-fba8-14945ada83e3"
   },
   "outputs": [
    {
     "data": {
      "text/html": [
       "<div>\n",
       "<style scoped>\n",
       "    .dataframe tbody tr th:only-of-type {\n",
       "        vertical-align: middle;\n",
       "    }\n",
       "\n",
       "    .dataframe tbody tr th {\n",
       "        vertical-align: top;\n",
       "    }\n",
       "\n",
       "    .dataframe thead th {\n",
       "        text-align: right;\n",
       "    }\n",
       "</style>\n",
       "<table border=\"1\" class=\"dataframe\">\n",
       "  <thead>\n",
       "    <tr style=\"text-align: right;\">\n",
       "      <th></th>\n",
       "      <th>customer_Id</th>\n",
       "      <th>DOB</th>\n",
       "      <th>Gender</th>\n",
       "      <th>city_code</th>\n",
       "      <th>transaction_id</th>\n",
       "      <th>cust_id</th>\n",
       "      <th>tran_date</th>\n",
       "      <th>prod_subcat_code</th>\n",
       "      <th>prod_cat_code</th>\n",
       "      <th>Qty</th>\n",
       "      <th>Rate</th>\n",
       "      <th>Tax</th>\n",
       "      <th>total_amt</th>\n",
       "      <th>Store_type</th>\n",
       "      <th>_merge</th>\n",
       "      <th>prod_cat</th>\n",
       "      <th>prod_sub_cat_code</th>\n",
       "      <th>prod_subcat</th>\n",
       "    </tr>\n",
       "  </thead>\n",
       "  <tbody>\n",
       "    <tr>\n",
       "      <th>99283</th>\n",
       "      <td>274618</td>\n",
       "      <td>9-12-92</td>\n",
       "      <td>F</td>\n",
       "      <td>7.0</td>\n",
       "      <td>98631113719</td>\n",
       "      <td>274618</td>\n",
       "      <td>19-04-2013</td>\n",
       "      <td>3</td>\n",
       "      <td>1</td>\n",
       "      <td>2</td>\n",
       "      <td>721</td>\n",
       "      <td>151.41</td>\n",
       "      <td>1593.41</td>\n",
       "      <td>e-Shop</td>\n",
       "      <td>both</td>\n",
       "      <td>Clothing</td>\n",
       "      <td>3</td>\n",
       "      <td>Kids</td>\n",
       "    </tr>\n",
       "    <tr>\n",
       "      <th>99284</th>\n",
       "      <td>268097</td>\n",
       "      <td>15-12-92</td>\n",
       "      <td>F</td>\n",
       "      <td>7.0</td>\n",
       "      <td>71286190189</td>\n",
       "      <td>268097</td>\n",
       "      <td>5/9/2011</td>\n",
       "      <td>4</td>\n",
       "      <td>1</td>\n",
       "      <td>5</td>\n",
       "      <td>818</td>\n",
       "      <td>429.45</td>\n",
       "      <td>4519.45</td>\n",
       "      <td>e-Shop</td>\n",
       "      <td>both</td>\n",
       "      <td>Clothing</td>\n",
       "      <td>4</td>\n",
       "      <td>Mens</td>\n",
       "    </tr>\n",
       "    <tr>\n",
       "      <th>99285</th>\n",
       "      <td>268097</td>\n",
       "      <td>15-12-92</td>\n",
       "      <td>F</td>\n",
       "      <td>7.0</td>\n",
       "      <td>71286190189</td>\n",
       "      <td>268097</td>\n",
       "      <td>5/9/2011</td>\n",
       "      <td>4</td>\n",
       "      <td>1</td>\n",
       "      <td>5</td>\n",
       "      <td>818</td>\n",
       "      <td>429.45</td>\n",
       "      <td>4519.45</td>\n",
       "      <td>e-Shop</td>\n",
       "      <td>both</td>\n",
       "      <td>Clothing</td>\n",
       "      <td>1</td>\n",
       "      <td>Women</td>\n",
       "    </tr>\n",
       "    <tr>\n",
       "      <th>99286</th>\n",
       "      <td>268097</td>\n",
       "      <td>15-12-92</td>\n",
       "      <td>F</td>\n",
       "      <td>7.0</td>\n",
       "      <td>71286190189</td>\n",
       "      <td>268097</td>\n",
       "      <td>5/9/2011</td>\n",
       "      <td>4</td>\n",
       "      <td>1</td>\n",
       "      <td>5</td>\n",
       "      <td>818</td>\n",
       "      <td>429.45</td>\n",
       "      <td>4519.45</td>\n",
       "      <td>e-Shop</td>\n",
       "      <td>both</td>\n",
       "      <td>Clothing</td>\n",
       "      <td>3</td>\n",
       "      <td>Kids</td>\n",
       "    </tr>\n",
       "    <tr>\n",
       "      <th>99287</th>\n",
       "      <td>271772</td>\n",
       "      <td>17-12-92</td>\n",
       "      <td>M</td>\n",
       "      <td>2.0</td>\n",
       "      <td>10440850091</td>\n",
       "      <td>271772</td>\n",
       "      <td>26-04-2013</td>\n",
       "      <td>4</td>\n",
       "      <td>1</td>\n",
       "      <td>4</td>\n",
       "      <td>819</td>\n",
       "      <td>343.98</td>\n",
       "      <td>3619.98</td>\n",
       "      <td>Flagship store</td>\n",
       "      <td>both</td>\n",
       "      <td>Clothing</td>\n",
       "      <td>4</td>\n",
       "      <td>Mens</td>\n",
       "    </tr>\n",
       "    <tr>\n",
       "      <th>99288</th>\n",
       "      <td>271772</td>\n",
       "      <td>17-12-92</td>\n",
       "      <td>M</td>\n",
       "      <td>2.0</td>\n",
       "      <td>10440850091</td>\n",
       "      <td>271772</td>\n",
       "      <td>26-04-2013</td>\n",
       "      <td>4</td>\n",
       "      <td>1</td>\n",
       "      <td>4</td>\n",
       "      <td>819</td>\n",
       "      <td>343.98</td>\n",
       "      <td>3619.98</td>\n",
       "      <td>Flagship store</td>\n",
       "      <td>both</td>\n",
       "      <td>Clothing</td>\n",
       "      <td>1</td>\n",
       "      <td>Women</td>\n",
       "    </tr>\n",
       "    <tr>\n",
       "      <th>99289</th>\n",
       "      <td>271772</td>\n",
       "      <td>17-12-92</td>\n",
       "      <td>M</td>\n",
       "      <td>2.0</td>\n",
       "      <td>10440850091</td>\n",
       "      <td>271772</td>\n",
       "      <td>26-04-2013</td>\n",
       "      <td>4</td>\n",
       "      <td>1</td>\n",
       "      <td>4</td>\n",
       "      <td>819</td>\n",
       "      <td>343.98</td>\n",
       "      <td>3619.98</td>\n",
       "      <td>Flagship store</td>\n",
       "      <td>both</td>\n",
       "      <td>Clothing</td>\n",
       "      <td>3</td>\n",
       "      <td>Kids</td>\n",
       "    </tr>\n",
       "    <tr>\n",
       "      <th>99290</th>\n",
       "      <td>269626</td>\n",
       "      <td>27-12-92</td>\n",
       "      <td>F</td>\n",
       "      <td>5.0</td>\n",
       "      <td>94134051896</td>\n",
       "      <td>269626</td>\n",
       "      <td>7/7/2011</td>\n",
       "      <td>3</td>\n",
       "      <td>1</td>\n",
       "      <td>3</td>\n",
       "      <td>1078</td>\n",
       "      <td>339.57</td>\n",
       "      <td>3573.57</td>\n",
       "      <td>MBR</td>\n",
       "      <td>both</td>\n",
       "      <td>Clothing</td>\n",
       "      <td>4</td>\n",
       "      <td>Mens</td>\n",
       "    </tr>\n",
       "    <tr>\n",
       "      <th>99291</th>\n",
       "      <td>269626</td>\n",
       "      <td>27-12-92</td>\n",
       "      <td>F</td>\n",
       "      <td>5.0</td>\n",
       "      <td>94134051896</td>\n",
       "      <td>269626</td>\n",
       "      <td>7/7/2011</td>\n",
       "      <td>3</td>\n",
       "      <td>1</td>\n",
       "      <td>3</td>\n",
       "      <td>1078</td>\n",
       "      <td>339.57</td>\n",
       "      <td>3573.57</td>\n",
       "      <td>MBR</td>\n",
       "      <td>both</td>\n",
       "      <td>Clothing</td>\n",
       "      <td>1</td>\n",
       "      <td>Women</td>\n",
       "    </tr>\n",
       "    <tr>\n",
       "      <th>99292</th>\n",
       "      <td>269626</td>\n",
       "      <td>27-12-92</td>\n",
       "      <td>F</td>\n",
       "      <td>5.0</td>\n",
       "      <td>94134051896</td>\n",
       "      <td>269626</td>\n",
       "      <td>7/7/2011</td>\n",
       "      <td>3</td>\n",
       "      <td>1</td>\n",
       "      <td>3</td>\n",
       "      <td>1078</td>\n",
       "      <td>339.57</td>\n",
       "      <td>3573.57</td>\n",
       "      <td>MBR</td>\n",
       "      <td>both</td>\n",
       "      <td>Clothing</td>\n",
       "      <td>3</td>\n",
       "      <td>Kids</td>\n",
       "    </tr>\n",
       "  </tbody>\n",
       "</table>\n",
       "</div>"
      ],
      "text/plain": [
       "       customer_Id       DOB Gender  city_code  transaction_id  cust_id  \\\n",
       "99283       274618   9-12-92      F        7.0     98631113719   274618   \n",
       "99284       268097  15-12-92      F        7.0     71286190189   268097   \n",
       "99285       268097  15-12-92      F        7.0     71286190189   268097   \n",
       "99286       268097  15-12-92      F        7.0     71286190189   268097   \n",
       "99287       271772  17-12-92      M        2.0     10440850091   271772   \n",
       "99288       271772  17-12-92      M        2.0     10440850091   271772   \n",
       "99289       271772  17-12-92      M        2.0     10440850091   271772   \n",
       "99290       269626  27-12-92      F        5.0     94134051896   269626   \n",
       "99291       269626  27-12-92      F        5.0     94134051896   269626   \n",
       "99292       269626  27-12-92      F        5.0     94134051896   269626   \n",
       "\n",
       "        tran_date  prod_subcat_code  prod_cat_code  Qty  Rate     Tax  \\\n",
       "99283  19-04-2013                 3              1    2   721  151.41   \n",
       "99284    5/9/2011                 4              1    5   818  429.45   \n",
       "99285    5/9/2011                 4              1    5   818  429.45   \n",
       "99286    5/9/2011                 4              1    5   818  429.45   \n",
       "99287  26-04-2013                 4              1    4   819  343.98   \n",
       "99288  26-04-2013                 4              1    4   819  343.98   \n",
       "99289  26-04-2013                 4              1    4   819  343.98   \n",
       "99290    7/7/2011                 3              1    3  1078  339.57   \n",
       "99291    7/7/2011                 3              1    3  1078  339.57   \n",
       "99292    7/7/2011                 3              1    3  1078  339.57   \n",
       "\n",
       "       total_amt      Store_type _merge  prod_cat  prod_sub_cat_code  \\\n",
       "99283    1593.41          e-Shop   both  Clothing                  3   \n",
       "99284    4519.45          e-Shop   both  Clothing                  4   \n",
       "99285    4519.45          e-Shop   both  Clothing                  1   \n",
       "99286    4519.45          e-Shop   both  Clothing                  3   \n",
       "99287    3619.98  Flagship store   both  Clothing                  4   \n",
       "99288    3619.98  Flagship store   both  Clothing                  1   \n",
       "99289    3619.98  Flagship store   both  Clothing                  3   \n",
       "99290    3573.57             MBR   both  Clothing                  4   \n",
       "99291    3573.57             MBR   both  Clothing                  1   \n",
       "99292    3573.57             MBR   both  Clothing                  3   \n",
       "\n",
       "      prod_subcat  \n",
       "99283        Kids  \n",
       "99284        Mens  \n",
       "99285       Women  \n",
       "99286        Kids  \n",
       "99287        Mens  \n",
       "99288       Women  \n",
       "99289        Kids  \n",
       "99290        Mens  \n",
       "99291       Women  \n",
       "99292        Kids  "
      ]
     },
     "execution_count": 11,
     "metadata": {},
     "output_type": "execute_result"
    }
   ],
   "source": [
    "Customer_Final.tail(10) #  Replace None Values with correct value or method   "
   ]
  },
  {
   "cell_type": "markdown",
   "metadata": {
    "id": "7Qj55BMLEG2a"
   },
   "source": [
    "### Five Number Summary"
   ]
  },
  {
   "cell_type": "code",
   "execution_count": 12,
   "metadata": {
    "colab": {
     "base_uri": "https://localhost:8080/",
     "height": 402
    },
    "executionInfo": {
     "elapsed": 5,
     "status": "ok",
     "timestamp": 1621714654811,
     "user": {
      "displayName": "Muhamed Essam",
      "photoUrl": "",
      "userId": "08424210389974954863"
     },
     "user_tz": -120
    },
    "id": "sfVs6JVxEG2b",
    "outputId": "823c17a0-8742-4eab-e575-0349d3f0d467"
   },
   "outputs": [
    {
     "name": "stdout",
     "output_type": "stream",
     "text": [
      "Min =  -8270.925\n",
      "Max =  8287.5\n",
      "Median =  1761.37\n",
      "Q1 =  762.45\n",
      "Q3 =  3585.725\n"
     ]
    },
    {
     "data": {
      "text/html": [
       "<div>\n",
       "<style scoped>\n",
       "    .dataframe tbody tr th:only-of-type {\n",
       "        vertical-align: middle;\n",
       "    }\n",
       "\n",
       "    .dataframe tbody tr th {\n",
       "        vertical-align: top;\n",
       "    }\n",
       "\n",
       "    .dataframe thead th {\n",
       "        text-align: right;\n",
       "    }\n",
       "</style>\n",
       "<table border=\"1\" class=\"dataframe\">\n",
       "  <thead>\n",
       "    <tr style=\"text-align: right;\">\n",
       "      <th></th>\n",
       "      <th>customer_Id</th>\n",
       "      <th>city_code</th>\n",
       "      <th>transaction_id</th>\n",
       "      <th>cust_id</th>\n",
       "      <th>prod_subcat_code</th>\n",
       "      <th>prod_cat_code</th>\n",
       "      <th>Qty</th>\n",
       "      <th>Rate</th>\n",
       "      <th>Tax</th>\n",
       "      <th>total_amt</th>\n",
       "      <th>prod_sub_cat_code</th>\n",
       "    </tr>\n",
       "  </thead>\n",
       "  <tbody>\n",
       "    <tr>\n",
       "      <th>count</th>\n",
       "      <td>99293.000000</td>\n",
       "      <td>99257.000000</td>\n",
       "      <td>9.929300e+04</td>\n",
       "      <td>99293.000000</td>\n",
       "      <td>99293.000000</td>\n",
       "      <td>99293.000000</td>\n",
       "      <td>99293.000000</td>\n",
       "      <td>99293.000000</td>\n",
       "      <td>99293.000000</td>\n",
       "      <td>99293.000000</td>\n",
       "      <td>99293.000000</td>\n",
       "    </tr>\n",
       "    <tr>\n",
       "      <th>mean</th>\n",
       "      <td>271030.010635</td>\n",
       "      <td>5.467221</td>\n",
       "      <td>5.007320e+10</td>\n",
       "      <td>271030.010635</td>\n",
       "      <td>6.796894</td>\n",
       "      <td>4.003243</td>\n",
       "      <td>2.438017</td>\n",
       "      <td>637.919884</td>\n",
       "      <td>248.873736</td>\n",
       "      <td>2114.616420</td>\n",
       "      <td>6.806985</td>\n",
       "    </tr>\n",
       "    <tr>\n",
       "      <th>std</th>\n",
       "      <td>2429.333624</td>\n",
       "      <td>2.859343</td>\n",
       "      <td>2.899361e+10</td>\n",
       "      <td>2429.333624</td>\n",
       "      <td>3.609439</td>\n",
       "      <td>1.563991</td>\n",
       "      <td>2.260726</td>\n",
       "      <td>621.576326</td>\n",
       "      <td>187.014422</td>\n",
       "      <td>2502.306768</td>\n",
       "      <td>3.615952</td>\n",
       "    </tr>\n",
       "    <tr>\n",
       "      <th>min</th>\n",
       "      <td>266783.000000</td>\n",
       "      <td>1.000000</td>\n",
       "      <td>3.268991e+06</td>\n",
       "      <td>266783.000000</td>\n",
       "      <td>1.000000</td>\n",
       "      <td>1.000000</td>\n",
       "      <td>-5.000000</td>\n",
       "      <td>-1499.000000</td>\n",
       "      <td>7.350000</td>\n",
       "      <td>-8270.925000</td>\n",
       "      <td>1.000000</td>\n",
       "    </tr>\n",
       "    <tr>\n",
       "      <th>25%</th>\n",
       "      <td>268956.000000</td>\n",
       "      <td>3.000000</td>\n",
       "      <td>2.492150e+10</td>\n",
       "      <td>268956.000000</td>\n",
       "      <td>4.000000</td>\n",
       "      <td>3.000000</td>\n",
       "      <td>1.000000</td>\n",
       "      <td>313.000000</td>\n",
       "      <td>98.280000</td>\n",
       "      <td>762.450000</td>\n",
       "      <td>4.000000</td>\n",
       "    </tr>\n",
       "    <tr>\n",
       "      <th>50%</th>\n",
       "      <td>270982.000000</td>\n",
       "      <td>5.000000</td>\n",
       "      <td>5.011083e+10</td>\n",
       "      <td>270982.000000</td>\n",
       "      <td>7.000000</td>\n",
       "      <td>5.000000</td>\n",
       "      <td>3.000000</td>\n",
       "      <td>713.000000</td>\n",
       "      <td>199.920000</td>\n",
       "      <td>1761.370000</td>\n",
       "      <td>7.000000</td>\n",
       "    </tr>\n",
       "    <tr>\n",
       "      <th>75%</th>\n",
       "      <td>273120.000000</td>\n",
       "      <td>8.000000</td>\n",
       "      <td>7.528121e+10</td>\n",
       "      <td>273120.000000</td>\n",
       "      <td>10.000000</td>\n",
       "      <td>5.000000</td>\n",
       "      <td>4.000000</td>\n",
       "      <td>1109.000000</td>\n",
       "      <td>366.975000</td>\n",
       "      <td>3585.725000</td>\n",
       "      <td>10.000000</td>\n",
       "    </tr>\n",
       "    <tr>\n",
       "      <th>max</th>\n",
       "      <td>275265.000000</td>\n",
       "      <td>10.000000</td>\n",
       "      <td>9.998755e+10</td>\n",
       "      <td>275265.000000</td>\n",
       "      <td>12.000000</td>\n",
       "      <td>6.000000</td>\n",
       "      <td>5.000000</td>\n",
       "      <td>1500.000000</td>\n",
       "      <td>787.500000</td>\n",
       "      <td>8287.500000</td>\n",
       "      <td>12.000000</td>\n",
       "    </tr>\n",
       "  </tbody>\n",
       "</table>\n",
       "</div>"
      ],
      "text/plain": [
       "         customer_Id     city_code  transaction_id        cust_id  \\\n",
       "count   99293.000000  99257.000000    9.929300e+04   99293.000000   \n",
       "mean   271030.010635      5.467221    5.007320e+10  271030.010635   \n",
       "std      2429.333624      2.859343    2.899361e+10    2429.333624   \n",
       "min    266783.000000      1.000000    3.268991e+06  266783.000000   \n",
       "25%    268956.000000      3.000000    2.492150e+10  268956.000000   \n",
       "50%    270982.000000      5.000000    5.011083e+10  270982.000000   \n",
       "75%    273120.000000      8.000000    7.528121e+10  273120.000000   \n",
       "max    275265.000000     10.000000    9.998755e+10  275265.000000   \n",
       "\n",
       "       prod_subcat_code  prod_cat_code           Qty          Rate  \\\n",
       "count      99293.000000   99293.000000  99293.000000  99293.000000   \n",
       "mean           6.796894       4.003243      2.438017    637.919884   \n",
       "std            3.609439       1.563991      2.260726    621.576326   \n",
       "min            1.000000       1.000000     -5.000000  -1499.000000   \n",
       "25%            4.000000       3.000000      1.000000    313.000000   \n",
       "50%            7.000000       5.000000      3.000000    713.000000   \n",
       "75%           10.000000       5.000000      4.000000   1109.000000   \n",
       "max           12.000000       6.000000      5.000000   1500.000000   \n",
       "\n",
       "                Tax     total_amt  prod_sub_cat_code  \n",
       "count  99293.000000  99293.000000       99293.000000  \n",
       "mean     248.873736   2114.616420           6.806985  \n",
       "std      187.014422   2502.306768           3.615952  \n",
       "min        7.350000  -8270.925000           1.000000  \n",
       "25%       98.280000    762.450000           4.000000  \n",
       "50%      199.920000   1761.370000           7.000000  \n",
       "75%      366.975000   3585.725000          10.000000  \n",
       "max      787.500000   8287.500000          12.000000  "
      ]
     },
     "execution_count": 12,
     "metadata": {},
     "output_type": "execute_result"
    }
   ],
   "source": [
    "import numpy as np\n",
    "Data_min = Customer_Final['total_amt'].min()\n",
    "Data_max = Customer_Final['total_amt'].max()                #  Replace None Values with correct value or method   \n",
    "Data_q1  = np.percentile(Customer_Final.total_amt,25 )   #  Replace None Values with correct value or method   \n",
    "median  = np.percentile(Customer_Final.total_amt,50)     #  Replace None Values with correct value or method   \n",
    "Data_q3  = np.percentile(Customer_Final.total_amt,75)\n",
    "print('Min = ',Data_min)\n",
    "print('Max = ',Data_max)\n",
    "print('Median = ',median)\n",
    "print('Q1 = ',Data_q1)\n",
    "print('Q3 = ',Data_q3)\n",
    "\n",
    "\n",
    "\n",
    "\n",
    "Customer_Final.describe()"
   ]
  },
  {
   "cell_type": "markdown",
   "metadata": {
    "id": "GlL_U24XEG2b"
   },
   "source": [
    "#### Frequency Table :\n",
    "\n",
    "### Store type"
   ]
  },
  {
   "cell_type": "code",
   "execution_count": 13,
   "metadata": {
    "colab": {
     "base_uri": "https://localhost:8080/",
     "height": 111
    },
    "executionInfo": {
     "elapsed": 3,
     "status": "ok",
     "timestamp": 1621714655196,
     "user": {
      "displayName": "Muhamed Essam",
      "photoUrl": "",
      "userId": "08424210389974954863"
     },
     "user_tz": -120
    },
    "id": "RdiN3Sb5EG2b",
    "outputId": "5432b158-8c28-4a4d-fcd3-6b976eb05789",
    "scrolled": true
   },
   "outputs": [
    {
     "data": {
      "text/html": [
       "<div>\n",
       "<style scoped>\n",
       "    .dataframe tbody tr th:only-of-type {\n",
       "        vertical-align: middle;\n",
       "    }\n",
       "\n",
       "    .dataframe tbody tr th {\n",
       "        vertical-align: top;\n",
       "    }\n",
       "\n",
       "    .dataframe thead th {\n",
       "        text-align: right;\n",
       "    }\n",
       "</style>\n",
       "<table border=\"1\" class=\"dataframe\">\n",
       "  <thead>\n",
       "    <tr style=\"text-align: right;\">\n",
       "      <th></th>\n",
       "      <th>TeleShop</th>\n",
       "      <th>MBR</th>\n",
       "      <th>e-shop</th>\n",
       "      <th>Flagshipstore</th>\n",
       "    </tr>\n",
       "  </thead>\n",
       "  <tbody>\n",
       "    <tr>\n",
       "      <th>Male</th>\n",
       "      <td>9767</td>\n",
       "      <td>9687</td>\n",
       "      <td>9159</td>\n",
       "      <td>19589</td>\n",
       "    </tr>\n",
       "    <tr>\n",
       "      <th>Female</th>\n",
       "      <td>10047</td>\n",
       "      <td>10278</td>\n",
       "      <td>10142</td>\n",
       "      <td>20584</td>\n",
       "    </tr>\n",
       "  </tbody>\n",
       "</table>\n",
       "</div>"
      ],
      "text/plain": [
       "        TeleShop    MBR  e-shop  Flagshipstore\n",
       "Male        9767   9687    9159          19589\n",
       "Female     10047  10278   10142          20584"
      ]
     },
     "execution_count": 13,
     "metadata": {},
     "output_type": "execute_result"
    }
   ],
   "source": [
    "freq_table = pd.crosstab(index = Customer_Final['Gender'],\n",
    "                         columns = Customer_Final['Store_type'])\n",
    "freq_table.columns = ['TeleShop','MBR','e-shop','Flagshipstore']\n",
    "freq_table.index = [\"Male\",'Female']    #  Replace None Values with correct value or method   \n",
    "freq_table"
   ]
  },
  {
   "cell_type": "markdown",
   "metadata": {
    "id": "M6v3KLAnEG2b"
   },
   "source": [
    "### Prod_cat"
   ]
  },
  {
   "cell_type": "code",
   "execution_count": 14,
   "metadata": {
    "colab": {
     "base_uri": "https://localhost:8080/",
     "height": 111
    },
    "executionInfo": {
     "elapsed": 4,
     "status": "ok",
     "timestamp": 1621714655503,
     "user": {
      "displayName": "Muhamed Essam",
      "photoUrl": "",
      "userId": "08424210389974954863"
     },
     "user_tz": -120
    },
    "id": "j80ZHafUEG2c",
    "outputId": "f83ad541-a7b7-4abc-96be-64e2d31457d0"
   },
   "outputs": [
    {
     "data": {
      "text/html": [
       "<div>\n",
       "<style scoped>\n",
       "    .dataframe tbody tr th:only-of-type {\n",
       "        vertical-align: middle;\n",
       "    }\n",
       "\n",
       "    .dataframe tbody tr th {\n",
       "        vertical-align: top;\n",
       "    }\n",
       "\n",
       "    .dataframe thead th {\n",
       "        text-align: right;\n",
       "    }\n",
       "</style>\n",
       "<table border=\"1\" class=\"dataframe\">\n",
       "  <thead>\n",
       "    <tr style=\"text-align: right;\">\n",
       "      <th></th>\n",
       "      <th>Books</th>\n",
       "      <th>Bags</th>\n",
       "      <th>Clothing</th>\n",
       "      <th>Footwear</th>\n",
       "      <th>Electronics</th>\n",
       "      <th>Home and kitchen</th>\n",
       "    </tr>\n",
       "  </thead>\n",
       "  <tbody>\n",
       "    <tr>\n",
       "      <th>Male</th>\n",
       "      <td>1988</td>\n",
       "      <td>17694</td>\n",
       "      <td>4317</td>\n",
       "      <td>11640</td>\n",
       "      <td>4587</td>\n",
       "      <td>7976</td>\n",
       "    </tr>\n",
       "    <tr>\n",
       "      <th>Female</th>\n",
       "      <td>2008</td>\n",
       "      <td>18696</td>\n",
       "      <td>4554</td>\n",
       "      <td>12850</td>\n",
       "      <td>4407</td>\n",
       "      <td>8536</td>\n",
       "    </tr>\n",
       "  </tbody>\n",
       "</table>\n",
       "</div>"
      ],
      "text/plain": [
       "        Books   Bags  Clothing  Footwear  Electronics  Home and kitchen\n",
       "Male     1988  17694      4317     11640         4587              7976\n",
       "Female   2008  18696      4554     12850         4407              8536"
      ]
     },
     "execution_count": 14,
     "metadata": {},
     "output_type": "execute_result"
    }
   ],
   "source": [
    "freq_table = pd.crosstab(index = Customer_Final['Gender'] ,   #  Replace None Values with correct value or method   \n",
    "                         columns = Customer_Final['prod_cat'])\n",
    "freq_table.columns = ['Books','Bags','Clothing','Footwear','Electronics','Home and kitchen']\n",
    "freq_table.index = ['Male','Female']\n",
    "freq_table"
   ]
  },
  {
   "cell_type": "markdown",
   "metadata": {
    "id": "dCE-jWHuEG2c"
   },
   "source": [
    "### Prod_subcat"
   ]
  },
  {
   "cell_type": "code",
   "execution_count": 15,
   "metadata": {
    "colab": {
     "base_uri": "https://localhost:8080/",
     "height": 145
    },
    "executionInfo": {
     "elapsed": 3,
     "status": "ok",
     "timestamp": 1621714655889,
     "user": {
      "displayName": "Muhamed Essam",
      "photoUrl": "",
      "userId": "08424210389974954863"
     },
     "user_tz": -120
    },
    "id": "7RIqCUs5EG2c",
    "outputId": "7e1c4bd9-208e-4cef-e985-11758db3f591"
   },
   "outputs": [
    {
     "data": {
      "text/html": [
       "<div>\n",
       "<style scoped>\n",
       "    .dataframe tbody tr th:only-of-type {\n",
       "        vertical-align: middle;\n",
       "    }\n",
       "\n",
       "    .dataframe tbody tr th {\n",
       "        vertical-align: top;\n",
       "    }\n",
       "\n",
       "    .dataframe thead th {\n",
       "        text-align: right;\n",
       "    }\n",
       "</style>\n",
       "<table border=\"1\" class=\"dataframe\">\n",
       "  <thead>\n",
       "    <tr style=\"text-align: right;\">\n",
       "      <th></th>\n",
       "      <th>Men</th>\n",
       "      <th>Women</th>\n",
       "      <th>Kid</th>\n",
       "      <th>Mobile</th>\n",
       "      <th>Computer</th>\n",
       "      <th>Personal Appliances</th>\n",
       "      <th>Cameras</th>\n",
       "      <th>Audio and video</th>\n",
       "      <th>Fiction</th>\n",
       "      <th>Academic</th>\n",
       "      <th>Non-fiction</th>\n",
       "      <th>Children</th>\n",
       "      <th>Comics</th>\n",
       "      <th>DIY</th>\n",
       "      <th>Furnishing</th>\n",
       "      <th>Kitchen</th>\n",
       "      <th>Bath</th>\n",
       "      <th>Tools</th>\n",
       "    </tr>\n",
       "  </thead>\n",
       "  <tbody>\n",
       "    <tr>\n",
       "      <th>Male</th>\n",
       "      <td>2949</td>\n",
       "      <td>2328</td>\n",
       "      <td>1994</td>\n",
       "      <td>2328</td>\n",
       "      <td>2949</td>\n",
       "      <td>2949</td>\n",
       "      <td>2328</td>\n",
       "      <td>2949</td>\n",
       "      <td>2949</td>\n",
       "      <td>1994</td>\n",
       "      <td>2968</td>\n",
       "      <td>1994</td>\n",
       "      <td>3962</td>\n",
       "      <td>2328</td>\n",
       "      <td>2949</td>\n",
       "      <td>2328</td>\n",
       "      <td>1994</td>\n",
       "      <td>3962</td>\n",
       "    </tr>\n",
       "    <tr>\n",
       "      <th>Female</th>\n",
       "      <td>3116</td>\n",
       "      <td>2570</td>\n",
       "      <td>2134</td>\n",
       "      <td>2570</td>\n",
       "      <td>3116</td>\n",
       "      <td>3116</td>\n",
       "      <td>2570</td>\n",
       "      <td>3116</td>\n",
       "      <td>3116</td>\n",
       "      <td>2134</td>\n",
       "      <td>2987</td>\n",
       "      <td>2134</td>\n",
       "      <td>3991</td>\n",
       "      <td>2570</td>\n",
       "      <td>3116</td>\n",
       "      <td>2570</td>\n",
       "      <td>2134</td>\n",
       "      <td>3991</td>\n",
       "    </tr>\n",
       "  </tbody>\n",
       "</table>\n",
       "</div>"
      ],
      "text/plain": [
       "         Men  Women   Kid  Mobile  Computer  Personal Appliances  Cameras  \\\n",
       "Male    2949   2328  1994    2328      2949                 2949     2328   \n",
       "Female  3116   2570  2134    2570      3116                 3116     2570   \n",
       "\n",
       "        Audio and video  Fiction  Academic  Non-fiction  Children  Comics  \\\n",
       "Male               2949     2949      1994         2968      1994    3962   \n",
       "Female             3116     3116      2134         2987      2134    3991   \n",
       "\n",
       "         DIY  Furnishing  Kitchen  Bath  Tools  \n",
       "Male    2328        2949     2328  1994   3962  \n",
       "Female  2570        3116     2570  2134   3991  "
      ]
     },
     "execution_count": 15,
     "metadata": {},
     "output_type": "execute_result"
    }
   ],
   "source": [
    "freq_table = pd.crosstab(index = Customer_Final['Gender'],\n",
    "                         columns =Customer_Final['prod_subcat'] )                             #  Replace None Values with correct value or method   \n",
    "freq_table.columns = ['Men','Women','Kid','Mobile','Computer','Personal Appliances','Cameras','Audio and video',\n",
    "                      'Fiction','Academic','Non-fiction','Children','Comics','DIY','Furnishing','Kitchen',\n",
    "                      'Bath','Tools']\n",
    "freq_table.index = ['Male','Female']\n",
    "freq_table"
   ]
  },
  {
   "cell_type": "markdown",
   "metadata": {
    "id": "wP0FcEUVpGPr"
   },
   "source": [
    "### Frequency of The Two Genders."
   ]
  },
  {
   "cell_type": "code",
   "execution_count": 16,
   "metadata": {
    "colab": {
     "base_uri": "https://localhost:8080/"
    },
    "executionInfo": {
     "elapsed": 4,
     "status": "ok",
     "timestamp": 1621714656234,
     "user": {
      "displayName": "Muhamed Essam",
      "photoUrl": "",
      "userId": "08424210389974954863"
     },
     "user_tz": -120
    },
    "id": "f-xRwz5Ljzd6",
    "outputId": "b0665bf7-4fb5-4010-b29b-ae93758053ca"
   },
   "outputs": [
    {
     "data": {
      "text/plain": [
       "M    51051\n",
       "F    48202\n",
       "Name: Gender, dtype: int64"
      ]
     },
     "execution_count": 16,
     "metadata": {},
     "output_type": "execute_result"
    }
   ],
   "source": [
    "Customer_Final.Gender.value_counts()         #  Replace None Values with correct value or method   "
   ]
  },
  {
   "cell_type": "markdown",
   "metadata": {
    "id": "bm_XTyeum0Ah"
   },
   "source": [
    "# Question For You !\n",
    "\n",
    "If You own this Retail and you have new set of Academic Products. according to your Dataset. who are most likely to be interested in the new set males or females ?\n",
    "\n",
    "![alt text](https://www.throughlinegroup.com/wp-content/uploads/2011/01/Question-Man.jpg)\n",
    "\n",
    "\n",
    "Your Answer : ......................................................."
   ]
  },
  {
   "cell_type": "markdown",
   "metadata": {
    "id": "NtyNTK4QEG2c"
   },
   "source": [
    "## Q3. Histograms for all continuous variables and frequency bars for categorical variables"
   ]
  },
  {
   "cell_type": "markdown",
   "metadata": {
    "id": "XUhiIZvaEG2d"
   },
   "source": [
    "### Histogram for continous variables -\n",
    "\n",
    "\n",
    "### 1. Tax"
   ]
  },
  {
   "cell_type": "code",
   "execution_count": null,
   "metadata": {
    "colab": {
     "base_uri": "https://localhost:8080/",
     "height": 279
    },
    "executionInfo": {
     "elapsed": 431,
     "status": "ok",
     "timestamp": 1621714657473,
     "user": {
      "displayName": "Muhamed Essam",
      "photoUrl": "",
      "userId": "08424210389974954863"
     },
     "user_tz": -120
    },
    "id": "zSfuLyQ_EG2d",
    "outputId": "0c00416f-3f99-42ba-9d1f-878b98a56436",
    "scrolled": true
   },
   "outputs": [
    {
     "data": {
      "image/png": "[encoded data removed]",
      "text/plain": [
       "<Figure size 432x288 with 1 Axes>"
      ]
     },
     "metadata": {
      "needs_background": "light",
      "tags": []
     },
     "output_type": "display_data"
    }
   ],
   "source": [
    "import matplotlib.pyplot as plt\n",
    "Tax = Customer_Final['Tax']\n",
    "plt.hist(Tax,color=['yellow'])\n",
    "plt.xlabel('tax')\n",
    "plt.ylabel('Frequency')\n",
    "plt.show()"
   ]
  },
  {
   "cell_type": "markdown",
   "metadata": {
    "id": "r8ForEiBEG2d"
   },
   "source": [
    "### 2. Total amount"
   ]
  },
  {
   "cell_type": "code",
   "execution_count": 17,
   "metadata": {
    "colab": {
     "base_uri": "https://localhost:8080/",
     "height": 279
    },
    "executionInfo": {
     "elapsed": 13,
     "status": "ok",
     "timestamp": 1621714659389,
     "user": {
      "displayName": "Muhamed Essam",
      "photoUrl": "",
      "userId": "08424210389974954863"
     },
     "user_tz": -120
    },
    "id": "MILInRiOEG2d",
    "outputId": "4d877d3d-edf0-4b3c-8ff2-b1bce1635bf4"
   },
   "outputs": [
    {
     "data": {
      "image/png": "[encoded data removed]",
      "text/plain": [
       "<Figure size 432x288 with 1 Axes>"
      ]
     },
     "metadata": {
      "needs_background": "light"
     },
     "output_type": "display_data"
    }
   ],
   "source": [
    "import matplotlib.pyplot as plt\n",
    "Tax = Customer_Final['total_amt']\n",
    "plt.hist(Tax,color=['blue'])\n",
    "plt.xlabel('Total amount')\n",
    "plt.ylabel('Frequency')\n",
    "plt.show()  #  Replace None Values with correct value or method   "
   ]
  },
  {
   "cell_type": "markdown",
   "metadata": {
    "id": "VZ87memxEG2d"
   },
   "source": [
    "### Frequency Bar for Categorical variables -\n",
    "\n",
    "\n",
    "\n",
    "### 1. Gender"
   ]
  },
  {
   "cell_type": "code",
   "execution_count": 18,
   "metadata": {
    "colab": {
     "base_uri": "https://localhost:8080/",
     "height": 281
    },
    "executionInfo": {
     "elapsed": 305,
     "status": "ok",
     "timestamp": 1621714789834,
     "user": {
      "displayName": "Muhamed Essam",
      "photoUrl": "",
      "userId": "08424210389974954863"
     },
     "user_tz": -120
    },
    "id": "-TA0nQf4EG2e",
    "outputId": "076c5da9-51f3-4491-e64d-d96629e7e754"
   },
   "outputs": [
    {
     "data": {
      "text/plain": [
       "<AxesSubplot:>"
      ]
     },
     "execution_count": 18,
     "metadata": {},
     "output_type": "execute_result"
    },
    {
     "data": {
      "image/png": "[encoded data removed]",
      "text/plain": [
       "<Figure size 432x288 with 1 Axes>"
      ]
     },
     "metadata": {
      "needs_background": "light"
     },
     "output_type": "display_data"
    }
   ],
   "source": [
    "Customer_Final['Gender'].value_counts().plot(kind='bar')"
   ]
  },
  {
   "cell_type": "markdown",
   "metadata": {
    "id": "llH6FB7cEG2e"
   },
   "source": [
    "### 2. Store type"
   ]
  },
  {
   "cell_type": "code",
   "execution_count": 19,
   "metadata": {
    "colab": {
     "base_uri": "https://localhost:8080/",
     "height": 342
    },
    "executionInfo": {
     "elapsed": 330,
     "status": "ok",
     "timestamp": 1621714802260,
     "user": {
      "displayName": "Muhamed Essam",
      "photoUrl": "",
      "userId": "08424210389974954863"
     },
     "user_tz": -120
    },
    "id": "2XxLnq8_EG2e",
    "outputId": "d734eab6-a130-4e7b-c116-ced538a41c5a"
   },
   "outputs": [
    {
     "data": {
      "text/plain": [
       "<AxesSubplot:>"
      ]
     },
     "execution_count": 19,
     "metadata": {},
     "output_type": "execute_result"
    },
    {
     "data": {
      "image/png": "[encoded data removed]",
      "text/plain": [
       "<Figure size 432x288 with 1 Axes>"
      ]
     },
     "metadata": {
      "needs_background": "light"
     },
     "output_type": "display_data"
    }
   ],
   "source": [
    "Customer_Final['Store_type'].value_counts().plot(kind='bar')  #  Replace None Values with correct value or method   "
   ]
  },
  {
   "cell_type": "markdown",
   "metadata": {
    "id": "gHpNPjpZEG2e"
   },
   "source": [
    "### 3. Product category"
   ]
  },
  {
   "cell_type": "code",
   "execution_count": 20,
   "metadata": {},
   "outputs": [
    {
     "name": "stdout",
     "output_type": "stream",
     "text": [
      "customer_Id\n",
      "DOB\n",
      "Gender\n",
      "city_code\n",
      "transaction_id\n",
      "cust_id\n",
      "tran_date\n",
      "prod_subcat_code\n",
      "prod_cat_code\n",
      "Qty\n",
      "Rate\n",
      "Tax\n",
      "total_amt\n",
      "Store_type\n",
      "_merge\n",
      "prod_cat\n",
      "prod_sub_cat_code\n",
      "prod_subcat\n"
     ]
    }
   ],
   "source": [
    "for i in Customer_Final:\n",
    "    print(i)"
   ]
  },
  {
   "cell_type": "code",
   "execution_count": 21,
   "metadata": {
    "colab": {
     "base_uri": "https://localhost:8080/",
     "height": 364
    },
    "executionInfo": {
     "elapsed": 464,
     "status": "ok",
     "timestamp": 1621714807569,
     "user": {
      "displayName": "Muhamed Essam",
      "photoUrl": "",
      "userId": "08424210389974954863"
     },
     "user_tz": -120
    },
    "id": "_oSUxoeIEG2f",
    "outputId": "1195449b-23a6-48c5-accc-cff8d21672da"
   },
   "outputs": [
    {
     "data": {
      "text/plain": [
       "<AxesSubplot:>"
      ]
     },
     "execution_count": 21,
     "metadata": {},
     "output_type": "execute_result"
    },
    {
     "data": {
      "image/png": "[encoded data removed]",
      "text/plain": [
       "<Figure size 432x288 with 1 Axes>"
      ]
     },
     "metadata": {
      "needs_background": "light"
     },
     "output_type": "display_data"
    }
   ],
   "source": [
    "Customer_Final['prod_cat'].value_counts().plot(kind='bar')  #  Replace None Values with correct value or method   "
   ]
  },
  {
   "cell_type": "markdown",
   "metadata": {
    "id": "M41L8JxCEG2f"
   },
   "source": [
    "### 4. Product sub category"
   ]
  },
  {
   "cell_type": "code",
   "execution_count": 22,
   "metadata": {
    "colab": {
     "base_uri": "https://localhost:8080/",
     "height": 372
    },
    "executionInfo": {
     "elapsed": 333,
     "status": "ok",
     "timestamp": 1621714811007,
     "user": {
      "displayName": "Muhamed Essam",
      "photoUrl": "",
      "userId": "08424210389974954863"
     },
     "user_tz": -120
    },
    "id": "kdK-j46TEG2f",
    "outputId": "93245d16-612b-4b64-cb4f-34c733834d4c"
   },
   "outputs": [
    {
     "data": {
      "text/plain": [
       "<AxesSubplot:>"
      ]
     },
     "execution_count": 22,
     "metadata": {},
     "output_type": "execute_result"
    },
    {
     "data": {
      "image/png": "[encoded data removed]",
      "text/plain": [
       "<Figure size 432x288 with 1 Axes>"
      ]
     },
     "metadata": {
      "needs_background": "light"
     },
     "output_type": "display_data"
    }
   ],
   "source": [
    "Customer_Final['prod_subcat'].value_counts().plot(kind='bar')  #  Replace None Values with correct value or method   "
   ]
  },
  {
   "cell_type": "markdown",
   "metadata": {
    "id": "zltiWOLyEG2f"
   },
   "source": [
    "## Q4\n",
    "### Count number of negative total amount\n",
    "\n"
   ]
  },
  {
   "cell_type": "code",
   "execution_count": 23,
   "metadata": {
    "colab": {
     "base_uri": "https://localhost:8080/"
    },
    "executionInfo": {
     "elapsed": 283,
     "status": "ok",
     "timestamp": 1621714928311,
     "user": {
      "displayName": "Muhamed Essam",
      "photoUrl": "",
      "userId": "08424210389974954863"
     },
     "user_tz": -120
    },
    "id": "QUy-ofn9EG2g",
    "outputId": "05649e6b-be82-4284-83fb-c004bab3fc79",
    "scrolled": true
   },
   "outputs": [
    {
     "data": {
      "text/plain": [
       "total_amt    9294\n",
       "dtype: int64"
      ]
     },
     "execution_count": 23,
     "metadata": {},
     "output_type": "execute_result"
    }
   ],
   "source": [
    "df = Customer_Final['total_amt']\n",
    "count2 = Customer_Final.loc[(df<0),['total_amt']].count()\n",
    "count2"
   ]
  },
  {
   "cell_type": "markdown",
   "metadata": {
    "id": "ukS0bq3FEG2g"
   },
   "source": [
    "## Q5. Analyze which product categories are more popular among females vs male customers."
   ]
  },
  {
   "cell_type": "code",
   "execution_count": 25,
   "metadata": {
    "colab": {
     "base_uri": "https://localhost:8080/",
     "height": 155
    },
    "executionInfo": {
     "elapsed": 3,
     "status": "ok",
     "timestamp": 1621714929416,
     "user": {
      "displayName": "Muhamed Essam",
      "photoUrl": "",
      "userId": "08424210389974954863"
     },
     "user_tz": -120
    },
    "id": "F37a5EJhEG2g",
    "outputId": "a4904f36-0c17-433d-87cb-7f0b3ea44bda"
   },
   "outputs": [
    {
     "data": {
      "text/plain": [
       "'The most popular product category in Male customers is : '"
      ]
     },
     "metadata": {},
     "output_type": "display_data"
    },
    {
     "data": {
      "text/plain": [
       "prod_cat\n",
       "Books    39875836.65\n",
       "Name: total_amt, dtype: float64"
      ]
     },
     "metadata": {},
     "output_type": "display_data"
    },
    {
     "data": {
      "text/plain": [
       "'The most popular product category in Female customers is : '"
      ]
     },
     "metadata": {},
     "output_type": "display_data"
    },
    {
     "data": {
      "text/plain": [
       "prod_cat\n",
       "Books    36988153.41\n",
       "Name: total_amt, dtype: float64"
      ]
     },
     "metadata": {},
     "output_type": "display_data"
    }
   ],
   "source": [
    "# Popular among Male\n",
    "M = Customer_Final.loc[Customer_Final['Gender']=='M']\n",
    "group_prod = M.groupby(['prod_cat'])['total_amt'].sum()\n",
    "popular_M = group_prod.nlargest(1)\n",
    "display('The most popular product category in Male customers is : ',popular_M)\n",
    "\n",
    "# Popular among Female\n",
    "F = Customer_Final.loc[Customer_Final['Gender']=='F']\n",
    "group_prod = F.groupby(['prod_cat'])['total_amt'].sum()\n",
    "popular_F = group_prod.nlargest(1)\n",
    "display('The most popular product category in Female customers is : ',popular_F)\n",
    "         #  Replace None Values with correct value or method   "
   ]
  },
  {
   "cell_type": "markdown",
   "metadata": {
    "id": "UC8Ksoh6EG2g"
   },
   "source": [
    "#### Among Male vs Female the most popular product category is Books."
   ]
  },
  {
   "cell_type": "markdown",
   "metadata": {
    "id": "-kheiClIEG2h"
   },
   "source": [
    "## Q6. Which City code has the maximum customers and what was the percentage of customers from that city?"
   ]
  },
  {
   "cell_type": "code",
   "execution_count": 26,
   "metadata": {
    "colab": {
     "base_uri": "https://localhost:8080/",
     "height": 86
    },
    "executionInfo": {
     "elapsed": 3,
     "status": "ok",
     "timestamp": 1621714930927,
     "user": {
      "displayName": "Muhamed Essam",
      "photoUrl": "",
      "userId": "08424210389974954863"
     },
     "user_tz": -120
    },
    "id": "LIfRUmG3EG2h",
    "outputId": "d5ed0efb-a96d-4c62-edb8-004419c25e86"
   },
   "outputs": [
    {
     "data": {
      "text/plain": [
       "'City code which has Maximum customers is : '"
      ]
     },
     "metadata": {},
     "output_type": "display_data"
    },
    {
     "data": {
      "text/plain": [
       "3.0    595\n",
       "Name: city_code, dtype: int64"
      ]
     },
     "metadata": {},
     "output_type": "display_data"
    },
    {
     "name": "stdout",
     "output_type": "stream",
     "text": [
      "Percentage of customers from the city code 3 is 10.54% : \n"
     ]
    }
   ],
   "source": [
    "max_cust = Customer['city_code'].value_counts()\n",
    "t = max_cust.nlargest(1)\n",
    "\n",
    "display(\"City code which has Maximum customers is : \",t)\n",
    "\n",
    "#percentage of customers from city code 3\n",
    "tot_customer = Customer['customer_Id'].count()\n",
    "percent = round((595/tot_customer)*100,2)\n",
    "print(\"Percentage of customers from the city code 3 is {}% : \".format(percent)) #  Replace None Values with correct value or method   "
   ]
  },
  {
   "cell_type": "markdown",
   "metadata": {
    "id": "SXnF5TK7EG2h"
   },
   "source": [
    "## Q7. Which store type sells the maximum products by value and by quantity?"
   ]
  },
  {
   "cell_type": "code",
   "execution_count": 27,
   "metadata": {
    "colab": {
     "base_uri": "https://localhost:8080/",
     "height": 51
    },
    "executionInfo": {
     "elapsed": 3,
     "status": "ok",
     "timestamp": 1621714931270,
     "user": {
      "displayName": "Muhamed Essam",
      "photoUrl": "",
      "userId": "08424210389974954863"
     },
     "user_tz": -120
    },
    "id": "KKoFSya-EG2h",
    "outputId": "a49cb623-a412-4406-a303-a14b613a869a"
   },
   "outputs": [
    {
     "data": {
      "text/plain": [
       "47986    TeleShop\n",
       "Name: Store_type, dtype: object"
      ]
     },
     "metadata": {},
     "output_type": "display_data"
    }
   ],
   "source": [
    "sort_list = Customer_Final.sort_values(['total_amt','Qty'],ascending =False)   #  Replace None Values with correct value or method   \n",
    "display(sort_list.head(1)['Store_type'])"
   ]
  },
  {
   "cell_type": "markdown",
   "metadata": {
    "id": "25V-D4GFEG2i"
   },
   "source": [
    "## Q8. What was the total amount earned from the \"Electronics\" and \"Clothing\" categories from Flagship Stores?"
   ]
  },
  {
   "cell_type": "code",
   "execution_count": 46,
   "metadata": {
    "colab": {
     "base_uri": "https://localhost:8080/"
    },
    "executionInfo": {
     "elapsed": 5,
     "status": "ok",
     "timestamp": 1621714931687,
     "user": {
      "displayName": "Muhamed Essam",
      "photoUrl": "",
      "userId": "08424210389974954863"
     },
     "user_tz": -120
    },
    "id": "Pz0hWau8EG2i",
    "outputId": "052050f9-8d85-4fcc-912d-2513d0fcdad3"
   },
   "outputs": [
    {
     "name": "stdout",
     "output_type": "stream",
     "text": [
      "Total amount earned 14658949.89\n"
     ]
    }
   ],
   "source": [
    "#df = Customer_Final['total_amt']\n",
    "#count2 = Customer_Final.loc[(df<0),['total_amt']].count()\n",
    "df = pd.DataFrame(Customer_Final)\n",
    "tf = df[df.prod_cat.isin(['Electronics','Clothing']) & (df.Store_type == 'Flagship store')]\n",
    "total = tf[\"total_amt\"].sum()    #  Replace None Values with correct value or method   \n",
    "print('Total amount earned',total)"
   ]
  },
  {
   "cell_type": "markdown",
   "metadata": {
    "id": "bg8dLhutEG2i"
   },
   "source": [
    "## Q9. What was the total amount earned from \"Male\" customers under the \"Electronics\" category?"
   ]
  },
  {
   "cell_type": "code",
   "execution_count": 47,
   "metadata": {
    "colab": {
     "base_uri": "https://localhost:8080/"
    },
    "executionInfo": {
     "elapsed": 8,
     "status": "ok",
     "timestamp": 1621714932781,
     "user": {
      "displayName": "Muhamed Essam",
      "photoUrl": "",
      "userId": "08424210389974954863"
     },
     "user_tz": -120
    },
    "id": "5k1DMFrREG2i",
    "outputId": "57193014-9e53-454a-c038-8cb3e95777ee"
   },
   "outputs": [
    {
     "name": "stdout",
     "output_type": "stream",
     "text": [
      "Total amount earned 28515547.125\n"
     ]
    }
   ],
   "source": [
    "tf1 = df[(df.Gender == \"M\" ) & (df.prod_cat == \"Electronics\" )]      #  Replace None Values with correct value or method   \n",
    "total = tf1[\"total_amt\"].sum()                         #  Replace None Values with correct value or method   \n",
    "print('Total amount earned',total)"
   ]
  },
  {
   "cell_type": "markdown",
   "metadata": {
    "id": "NzHAYg-vEG2j"
   },
   "source": [
    "## Q10. How many customers have more than 10 unique transactions, after removing all transactions which have any negative amounts?"
   ]
  },
  {
   "cell_type": "code",
   "execution_count": 48,
   "metadata": {
    "colab": {
     "base_uri": "https://localhost:8080/"
    },
    "executionInfo": {
     "elapsed": 6,
     "status": "ok",
     "timestamp": 1621714932782,
     "user": {
      "displayName": "Muhamed Essam",
      "photoUrl": "",
      "userId": "08424210389974954863"
     },
     "user_tz": -120
    },
    "id": "-AaH6qb2EG2j",
    "outputId": "63bad03b-ac92-4024-d4d4-3658bc35e9c7"
   },
   "outputs": [
    {
     "name": "stdout",
     "output_type": "stream",
     "text": [
      "Total customers having more than 10 unique transactions are -  20876\n"
     ]
    }
   ],
   "source": [
    "#df = Customer_Final['total_amt']\n",
    "#count2 = Customer_Final.loc[(df<0),['total_amt']].count()\n",
    "df1 = df[ Customer_Final['total_amt']>=0]          #  Replace None Values with correct value or method   \n",
    "ts = df1.transaction_id.nunique()\n",
    "print('Total customers having more than 10 unique transactions are - ',ts)"
   ]
  },
  {
   "cell_type": "markdown",
   "metadata": {
    "id": "aBPyy7KMEG2j"
   },
   "source": [
    "## Q11. For all customers aged between 25 - 35, find out:\n",
    "\n",
    "\n",
    "### a. What was the total amount spent for “Electronics” and “Books” product categories?"
   ]
  },
  {
   "cell_type": "code",
   "execution_count": 49,
   "metadata": {
    "colab": {
     "base_uri": "https://localhost:8080/",
     "height": 779
    },
    "executionInfo": {
     "elapsed": 6565,
     "status": "ok",
     "timestamp": 1621714940043,
     "user": {
      "displayName": "Muhamed Essam",
      "photoUrl": "",
      "userId": "08424210389974954863"
     },
     "user_tz": -120
    },
    "id": "_u3KCOvpEG2j",
    "outputId": "b8d74bf9-3837-467c-cc38-98ad1a83bcdc"
   },
   "outputs": [
    {
     "data": {
      "text/html": [
       "<div>\n",
       "<style scoped>\n",
       "    .dataframe tbody tr th:only-of-type {\n",
       "        vertical-align: middle;\n",
       "    }\n",
       "\n",
       "    .dataframe tbody tr th {\n",
       "        vertical-align: top;\n",
       "    }\n",
       "\n",
       "    .dataframe thead th {\n",
       "        text-align: right;\n",
       "    }\n",
       "</style>\n",
       "<table border=\"1\" class=\"dataframe\">\n",
       "  <thead>\n",
       "    <tr style=\"text-align: right;\">\n",
       "      <th></th>\n",
       "      <th>customer_Id</th>\n",
       "      <th>DOB</th>\n",
       "      <th>Gender</th>\n",
       "      <th>city_code</th>\n",
       "      <th>transaction_id</th>\n",
       "      <th>cust_id</th>\n",
       "      <th>tran_date</th>\n",
       "      <th>prod_subcat_code</th>\n",
       "      <th>prod_cat_code</th>\n",
       "      <th>Qty</th>\n",
       "      <th>Rate</th>\n",
       "      <th>Tax</th>\n",
       "      <th>total_amt</th>\n",
       "      <th>Store_type</th>\n",
       "      <th>_merge</th>\n",
       "      <th>prod_cat</th>\n",
       "      <th>prod_sub_cat_code</th>\n",
       "      <th>prod_subcat</th>\n",
       "      <th>age</th>\n",
       "    </tr>\n",
       "  </thead>\n",
       "  <tbody>\n",
       "    <tr>\n",
       "      <th>0</th>\n",
       "      <td>268408</td>\n",
       "      <td>2-1-70</td>\n",
       "      <td>M</td>\n",
       "      <td>4.0</td>\n",
       "      <td>87243835584</td>\n",
       "      <td>268408</td>\n",
       "      <td>2014-01-13</td>\n",
       "      <td>7</td>\n",
       "      <td>5</td>\n",
       "      <td>5</td>\n",
       "      <td>187</td>\n",
       "      <td>98.175</td>\n",
       "      <td>1033.175</td>\n",
       "      <td>TeleShop</td>\n",
       "      <td>both</td>\n",
       "      <td>Books</td>\n",
       "      <td>7</td>\n",
       "      <td>Fiction</td>\n",
       "      <td>52</td>\n",
       "    </tr>\n",
       "    <tr>\n",
       "      <th>1</th>\n",
       "      <td>268408</td>\n",
       "      <td>2-1-70</td>\n",
       "      <td>M</td>\n",
       "      <td>4.0</td>\n",
       "      <td>87243835584</td>\n",
       "      <td>268408</td>\n",
       "      <td>2014-01-13</td>\n",
       "      <td>7</td>\n",
       "      <td>5</td>\n",
       "      <td>5</td>\n",
       "      <td>187</td>\n",
       "      <td>98.175</td>\n",
       "      <td>1033.175</td>\n",
       "      <td>TeleShop</td>\n",
       "      <td>both</td>\n",
       "      <td>Books</td>\n",
       "      <td>12</td>\n",
       "      <td>Academic</td>\n",
       "      <td>52</td>\n",
       "    </tr>\n",
       "    <tr>\n",
       "      <th>2</th>\n",
       "      <td>268408</td>\n",
       "      <td>2-1-70</td>\n",
       "      <td>M</td>\n",
       "      <td>4.0</td>\n",
       "      <td>87243835584</td>\n",
       "      <td>268408</td>\n",
       "      <td>2014-01-13</td>\n",
       "      <td>7</td>\n",
       "      <td>5</td>\n",
       "      <td>5</td>\n",
       "      <td>187</td>\n",
       "      <td>98.175</td>\n",
       "      <td>1033.175</td>\n",
       "      <td>TeleShop</td>\n",
       "      <td>both</td>\n",
       "      <td>Books</td>\n",
       "      <td>10</td>\n",
       "      <td>Non-Fiction</td>\n",
       "      <td>52</td>\n",
       "    </tr>\n",
       "    <tr>\n",
       "      <th>3</th>\n",
       "      <td>268408</td>\n",
       "      <td>2-1-70</td>\n",
       "      <td>M</td>\n",
       "      <td>4.0</td>\n",
       "      <td>87243835584</td>\n",
       "      <td>268408</td>\n",
       "      <td>2014-01-13</td>\n",
       "      <td>7</td>\n",
       "      <td>5</td>\n",
       "      <td>5</td>\n",
       "      <td>187</td>\n",
       "      <td>98.175</td>\n",
       "      <td>1033.175</td>\n",
       "      <td>TeleShop</td>\n",
       "      <td>both</td>\n",
       "      <td>Books</td>\n",
       "      <td>11</td>\n",
       "      <td>Children</td>\n",
       "      <td>52</td>\n",
       "    </tr>\n",
       "    <tr>\n",
       "      <th>4</th>\n",
       "      <td>268408</td>\n",
       "      <td>2-1-70</td>\n",
       "      <td>M</td>\n",
       "      <td>4.0</td>\n",
       "      <td>87243835584</td>\n",
       "      <td>268408</td>\n",
       "      <td>2014-01-13</td>\n",
       "      <td>7</td>\n",
       "      <td>5</td>\n",
       "      <td>5</td>\n",
       "      <td>187</td>\n",
       "      <td>98.175</td>\n",
       "      <td>1033.175</td>\n",
       "      <td>TeleShop</td>\n",
       "      <td>both</td>\n",
       "      <td>Books</td>\n",
       "      <td>3</td>\n",
       "      <td>Comics</td>\n",
       "      <td>52</td>\n",
       "    </tr>\n",
       "    <tr>\n",
       "      <th>...</th>\n",
       "      <td>...</td>\n",
       "      <td>...</td>\n",
       "      <td>...</td>\n",
       "      <td>...</td>\n",
       "      <td>...</td>\n",
       "      <td>...</td>\n",
       "      <td>...</td>\n",
       "      <td>...</td>\n",
       "      <td>...</td>\n",
       "      <td>...</td>\n",
       "      <td>...</td>\n",
       "      <td>...</td>\n",
       "      <td>...</td>\n",
       "      <td>...</td>\n",
       "      <td>...</td>\n",
       "      <td>...</td>\n",
       "      <td>...</td>\n",
       "      <td>...</td>\n",
       "      <td>...</td>\n",
       "    </tr>\n",
       "    <tr>\n",
       "      <th>99288</th>\n",
       "      <td>271772</td>\n",
       "      <td>17-12-92</td>\n",
       "      <td>M</td>\n",
       "      <td>2.0</td>\n",
       "      <td>10440850091</td>\n",
       "      <td>271772</td>\n",
       "      <td>2013-04-26</td>\n",
       "      <td>4</td>\n",
       "      <td>1</td>\n",
       "      <td>4</td>\n",
       "      <td>819</td>\n",
       "      <td>343.980</td>\n",
       "      <td>3619.980</td>\n",
       "      <td>Flagship store</td>\n",
       "      <td>both</td>\n",
       "      <td>Clothing</td>\n",
       "      <td>1</td>\n",
       "      <td>Women</td>\n",
       "      <td>30</td>\n",
       "    </tr>\n",
       "    <tr>\n",
       "      <th>99289</th>\n",
       "      <td>271772</td>\n",
       "      <td>17-12-92</td>\n",
       "      <td>M</td>\n",
       "      <td>2.0</td>\n",
       "      <td>10440850091</td>\n",
       "      <td>271772</td>\n",
       "      <td>2013-04-26</td>\n",
       "      <td>4</td>\n",
       "      <td>1</td>\n",
       "      <td>4</td>\n",
       "      <td>819</td>\n",
       "      <td>343.980</td>\n",
       "      <td>3619.980</td>\n",
       "      <td>Flagship store</td>\n",
       "      <td>both</td>\n",
       "      <td>Clothing</td>\n",
       "      <td>3</td>\n",
       "      <td>Kids</td>\n",
       "      <td>30</td>\n",
       "    </tr>\n",
       "    <tr>\n",
       "      <th>99290</th>\n",
       "      <td>269626</td>\n",
       "      <td>27-12-92</td>\n",
       "      <td>F</td>\n",
       "      <td>5.0</td>\n",
       "      <td>94134051896</td>\n",
       "      <td>269626</td>\n",
       "      <td>2011-07-07</td>\n",
       "      <td>3</td>\n",
       "      <td>1</td>\n",
       "      <td>3</td>\n",
       "      <td>1078</td>\n",
       "      <td>339.570</td>\n",
       "      <td>3573.570</td>\n",
       "      <td>MBR</td>\n",
       "      <td>both</td>\n",
       "      <td>Clothing</td>\n",
       "      <td>4</td>\n",
       "      <td>Mens</td>\n",
       "      <td>30</td>\n",
       "    </tr>\n",
       "    <tr>\n",
       "      <th>99291</th>\n",
       "      <td>269626</td>\n",
       "      <td>27-12-92</td>\n",
       "      <td>F</td>\n",
       "      <td>5.0</td>\n",
       "      <td>94134051896</td>\n",
       "      <td>269626</td>\n",
       "      <td>2011-07-07</td>\n",
       "      <td>3</td>\n",
       "      <td>1</td>\n",
       "      <td>3</td>\n",
       "      <td>1078</td>\n",
       "      <td>339.570</td>\n",
       "      <td>3573.570</td>\n",
       "      <td>MBR</td>\n",
       "      <td>both</td>\n",
       "      <td>Clothing</td>\n",
       "      <td>1</td>\n",
       "      <td>Women</td>\n",
       "      <td>30</td>\n",
       "    </tr>\n",
       "    <tr>\n",
       "      <th>99292</th>\n",
       "      <td>269626</td>\n",
       "      <td>27-12-92</td>\n",
       "      <td>F</td>\n",
       "      <td>5.0</td>\n",
       "      <td>94134051896</td>\n",
       "      <td>269626</td>\n",
       "      <td>2011-07-07</td>\n",
       "      <td>3</td>\n",
       "      <td>1</td>\n",
       "      <td>3</td>\n",
       "      <td>1078</td>\n",
       "      <td>339.570</td>\n",
       "      <td>3573.570</td>\n",
       "      <td>MBR</td>\n",
       "      <td>both</td>\n",
       "      <td>Clothing</td>\n",
       "      <td>3</td>\n",
       "      <td>Kids</td>\n",
       "      <td>30</td>\n",
       "    </tr>\n",
       "  </tbody>\n",
       "</table>\n",
       "<p>99293 rows × 19 columns</p>\n",
       "</div>"
      ],
      "text/plain": [
       "       customer_Id       DOB Gender  city_code  transaction_id  cust_id  \\\n",
       "0           268408    2-1-70      M        4.0     87243835584   268408   \n",
       "1           268408    2-1-70      M        4.0     87243835584   268408   \n",
       "2           268408    2-1-70      M        4.0     87243835584   268408   \n",
       "3           268408    2-1-70      M        4.0     87243835584   268408   \n",
       "4           268408    2-1-70      M        4.0     87243835584   268408   \n",
       "...            ...       ...    ...        ...             ...      ...   \n",
       "99288       271772  17-12-92      M        2.0     10440850091   271772   \n",
       "99289       271772  17-12-92      M        2.0     10440850091   271772   \n",
       "99290       269626  27-12-92      F        5.0     94134051896   269626   \n",
       "99291       269626  27-12-92      F        5.0     94134051896   269626   \n",
       "99292       269626  27-12-92      F        5.0     94134051896   269626   \n",
       "\n",
       "       tran_date  prod_subcat_code  prod_cat_code  Qty  Rate      Tax  \\\n",
       "0     2014-01-13                 7              5    5   187   98.175   \n",
       "1     2014-01-13                 7              5    5   187   98.175   \n",
       "2     2014-01-13                 7              5    5   187   98.175   \n",
       "3     2014-01-13                 7              5    5   187   98.175   \n",
       "4     2014-01-13                 7              5    5   187   98.175   \n",
       "...          ...               ...            ...  ...   ...      ...   \n",
       "99288 2013-04-26                 4              1    4   819  343.980   \n",
       "99289 2013-04-26                 4              1    4   819  343.980   \n",
       "99290 2011-07-07                 3              1    3  1078  339.570   \n",
       "99291 2011-07-07                 3              1    3  1078  339.570   \n",
       "99292 2011-07-07                 3              1    3  1078  339.570   \n",
       "\n",
       "       total_amt      Store_type _merge  prod_cat  prod_sub_cat_code  \\\n",
       "0       1033.175        TeleShop   both     Books                  7   \n",
       "1       1033.175        TeleShop   both     Books                 12   \n",
       "2       1033.175        TeleShop   both     Books                 10   \n",
       "3       1033.175        TeleShop   both     Books                 11   \n",
       "4       1033.175        TeleShop   both     Books                  3   \n",
       "...          ...             ...    ...       ...                ...   \n",
       "99288   3619.980  Flagship store   both  Clothing                  1   \n",
       "99289   3619.980  Flagship store   both  Clothing                  3   \n",
       "99290   3573.570             MBR   both  Clothing                  4   \n",
       "99291   3573.570             MBR   both  Clothing                  1   \n",
       "99292   3573.570             MBR   both  Clothing                  3   \n",
       "\n",
       "       prod_subcat  age  \n",
       "0          Fiction   52  \n",
       "1         Academic   52  \n",
       "2      Non-Fiction   52  \n",
       "3         Children   52  \n",
       "4           Comics   52  \n",
       "...            ...  ...  \n",
       "99288        Women   30  \n",
       "99289         Kids   30  \n",
       "99290         Mens   30  \n",
       "99291        Women   30  \n",
       "99292         Kids   30  \n",
       "\n",
       "[99293 rows x 19 columns]"
      ]
     },
     "execution_count": 49,
     "metadata": {},
     "output_type": "execute_result"
    }
   ],
   "source": [
    "curr_year = pd.to_datetime('today').year\n",
    "dob_year = pd.DatetimeIndex(df['DOB']).year          #extract year from DOB\n",
    "x = dob_year-100                                               # for the years which belongs to 60's\n",
    "v = curr_year - x\n",
    "y = curr_year - dob_year\n",
    "df['age'] = (np.where(dob_year > curr_year,v,y))\n",
    "df\n"
   ]
  },
  {
   "cell_type": "code",
   "execution_count": 50,
   "metadata": {},
   "outputs": [
    {
     "data": {
      "text/html": [
       "<div>\n",
       "<style scoped>\n",
       "    .dataframe tbody tr th:only-of-type {\n",
       "        vertical-align: middle;\n",
       "    }\n",
       "\n",
       "    .dataframe tbody tr th {\n",
       "        vertical-align: top;\n",
       "    }\n",
       "\n",
       "    .dataframe thead th {\n",
       "        text-align: right;\n",
       "    }\n",
       "</style>\n",
       "<table border=\"1\" class=\"dataframe\">\n",
       "  <thead>\n",
       "    <tr style=\"text-align: right;\">\n",
       "      <th></th>\n",
       "      <th>customer_Id</th>\n",
       "      <th>DOB</th>\n",
       "      <th>Gender</th>\n",
       "      <th>city_code</th>\n",
       "      <th>transaction_id</th>\n",
       "      <th>cust_id</th>\n",
       "      <th>tran_date</th>\n",
       "      <th>prod_subcat_code</th>\n",
       "      <th>prod_cat_code</th>\n",
       "      <th>Qty</th>\n",
       "      <th>Rate</th>\n",
       "      <th>Tax</th>\n",
       "      <th>total_amt</th>\n",
       "      <th>Store_type</th>\n",
       "      <th>_merge</th>\n",
       "      <th>prod_cat</th>\n",
       "      <th>prod_sub_cat_code</th>\n",
       "      <th>prod_subcat</th>\n",
       "      <th>age</th>\n",
       "    </tr>\n",
       "  </thead>\n",
       "  <tbody>\n",
       "    <tr>\n",
       "      <th>0</th>\n",
       "      <td>268408</td>\n",
       "      <td>2-1-70</td>\n",
       "      <td>M</td>\n",
       "      <td>4.0</td>\n",
       "      <td>87243835584</td>\n",
       "      <td>268408</td>\n",
       "      <td>2014-01-13</td>\n",
       "      <td>7</td>\n",
       "      <td>5</td>\n",
       "      <td>5</td>\n",
       "      <td>187</td>\n",
       "      <td>98.175</td>\n",
       "      <td>1033.175</td>\n",
       "      <td>TeleShop</td>\n",
       "      <td>both</td>\n",
       "      <td>Books</td>\n",
       "      <td>7</td>\n",
       "      <td>Fiction</td>\n",
       "      <td>52</td>\n",
       "    </tr>\n",
       "    <tr>\n",
       "      <th>1</th>\n",
       "      <td>268408</td>\n",
       "      <td>2-1-70</td>\n",
       "      <td>M</td>\n",
       "      <td>4.0</td>\n",
       "      <td>87243835584</td>\n",
       "      <td>268408</td>\n",
       "      <td>2014-01-13</td>\n",
       "      <td>7</td>\n",
       "      <td>5</td>\n",
       "      <td>5</td>\n",
       "      <td>187</td>\n",
       "      <td>98.175</td>\n",
       "      <td>1033.175</td>\n",
       "      <td>TeleShop</td>\n",
       "      <td>both</td>\n",
       "      <td>Books</td>\n",
       "      <td>12</td>\n",
       "      <td>Academic</td>\n",
       "      <td>52</td>\n",
       "    </tr>\n",
       "    <tr>\n",
       "      <th>2</th>\n",
       "      <td>268408</td>\n",
       "      <td>2-1-70</td>\n",
       "      <td>M</td>\n",
       "      <td>4.0</td>\n",
       "      <td>87243835584</td>\n",
       "      <td>268408</td>\n",
       "      <td>2014-01-13</td>\n",
       "      <td>7</td>\n",
       "      <td>5</td>\n",
       "      <td>5</td>\n",
       "      <td>187</td>\n",
       "      <td>98.175</td>\n",
       "      <td>1033.175</td>\n",
       "      <td>TeleShop</td>\n",
       "      <td>both</td>\n",
       "      <td>Books</td>\n",
       "      <td>10</td>\n",
       "      <td>Non-Fiction</td>\n",
       "      <td>52</td>\n",
       "    </tr>\n",
       "    <tr>\n",
       "      <th>3</th>\n",
       "      <td>268408</td>\n",
       "      <td>2-1-70</td>\n",
       "      <td>M</td>\n",
       "      <td>4.0</td>\n",
       "      <td>87243835584</td>\n",
       "      <td>268408</td>\n",
       "      <td>2014-01-13</td>\n",
       "      <td>7</td>\n",
       "      <td>5</td>\n",
       "      <td>5</td>\n",
       "      <td>187</td>\n",
       "      <td>98.175</td>\n",
       "      <td>1033.175</td>\n",
       "      <td>TeleShop</td>\n",
       "      <td>both</td>\n",
       "      <td>Books</td>\n",
       "      <td>11</td>\n",
       "      <td>Children</td>\n",
       "      <td>52</td>\n",
       "    </tr>\n",
       "    <tr>\n",
       "      <th>4</th>\n",
       "      <td>268408</td>\n",
       "      <td>2-1-70</td>\n",
       "      <td>M</td>\n",
       "      <td>4.0</td>\n",
       "      <td>87243835584</td>\n",
       "      <td>268408</td>\n",
       "      <td>2014-01-13</td>\n",
       "      <td>7</td>\n",
       "      <td>5</td>\n",
       "      <td>5</td>\n",
       "      <td>187</td>\n",
       "      <td>98.175</td>\n",
       "      <td>1033.175</td>\n",
       "      <td>TeleShop</td>\n",
       "      <td>both</td>\n",
       "      <td>Books</td>\n",
       "      <td>3</td>\n",
       "      <td>Comics</td>\n",
       "      <td>52</td>\n",
       "    </tr>\n",
       "    <tr>\n",
       "      <th>...</th>\n",
       "      <td>...</td>\n",
       "      <td>...</td>\n",
       "      <td>...</td>\n",
       "      <td>...</td>\n",
       "      <td>...</td>\n",
       "      <td>...</td>\n",
       "      <td>...</td>\n",
       "      <td>...</td>\n",
       "      <td>...</td>\n",
       "      <td>...</td>\n",
       "      <td>...</td>\n",
       "      <td>...</td>\n",
       "      <td>...</td>\n",
       "      <td>...</td>\n",
       "      <td>...</td>\n",
       "      <td>...</td>\n",
       "      <td>...</td>\n",
       "      <td>...</td>\n",
       "      <td>...</td>\n",
       "    </tr>\n",
       "    <tr>\n",
       "      <th>99288</th>\n",
       "      <td>271772</td>\n",
       "      <td>17-12-92</td>\n",
       "      <td>M</td>\n",
       "      <td>2.0</td>\n",
       "      <td>10440850091</td>\n",
       "      <td>271772</td>\n",
       "      <td>2013-04-26</td>\n",
       "      <td>4</td>\n",
       "      <td>1</td>\n",
       "      <td>4</td>\n",
       "      <td>819</td>\n",
       "      <td>343.980</td>\n",
       "      <td>3619.980</td>\n",
       "      <td>Flagship store</td>\n",
       "      <td>both</td>\n",
       "      <td>Clothing</td>\n",
       "      <td>1</td>\n",
       "      <td>Women</td>\n",
       "      <td>30</td>\n",
       "    </tr>\n",
       "    <tr>\n",
       "      <th>99289</th>\n",
       "      <td>271772</td>\n",
       "      <td>17-12-92</td>\n",
       "      <td>M</td>\n",
       "      <td>2.0</td>\n",
       "      <td>10440850091</td>\n",
       "      <td>271772</td>\n",
       "      <td>2013-04-26</td>\n",
       "      <td>4</td>\n",
       "      <td>1</td>\n",
       "      <td>4</td>\n",
       "      <td>819</td>\n",
       "      <td>343.980</td>\n",
       "      <td>3619.980</td>\n",
       "      <td>Flagship store</td>\n",
       "      <td>both</td>\n",
       "      <td>Clothing</td>\n",
       "      <td>3</td>\n",
       "      <td>Kids</td>\n",
       "      <td>30</td>\n",
       "    </tr>\n",
       "    <tr>\n",
       "      <th>99290</th>\n",
       "      <td>269626</td>\n",
       "      <td>27-12-92</td>\n",
       "      <td>F</td>\n",
       "      <td>5.0</td>\n",
       "      <td>94134051896</td>\n",
       "      <td>269626</td>\n",
       "      <td>2011-07-07</td>\n",
       "      <td>3</td>\n",
       "      <td>1</td>\n",
       "      <td>3</td>\n",
       "      <td>1078</td>\n",
       "      <td>339.570</td>\n",
       "      <td>3573.570</td>\n",
       "      <td>MBR</td>\n",
       "      <td>both</td>\n",
       "      <td>Clothing</td>\n",
       "      <td>4</td>\n",
       "      <td>Mens</td>\n",
       "      <td>30</td>\n",
       "    </tr>\n",
       "    <tr>\n",
       "      <th>99291</th>\n",
       "      <td>269626</td>\n",
       "      <td>27-12-92</td>\n",
       "      <td>F</td>\n",
       "      <td>5.0</td>\n",
       "      <td>94134051896</td>\n",
       "      <td>269626</td>\n",
       "      <td>2011-07-07</td>\n",
       "      <td>3</td>\n",
       "      <td>1</td>\n",
       "      <td>3</td>\n",
       "      <td>1078</td>\n",
       "      <td>339.570</td>\n",
       "      <td>3573.570</td>\n",
       "      <td>MBR</td>\n",
       "      <td>both</td>\n",
       "      <td>Clothing</td>\n",
       "      <td>1</td>\n",
       "      <td>Women</td>\n",
       "      <td>30</td>\n",
       "    </tr>\n",
       "    <tr>\n",
       "      <th>99292</th>\n",
       "      <td>269626</td>\n",
       "      <td>27-12-92</td>\n",
       "      <td>F</td>\n",
       "      <td>5.0</td>\n",
       "      <td>94134051896</td>\n",
       "      <td>269626</td>\n",
       "      <td>2011-07-07</td>\n",
       "      <td>3</td>\n",
       "      <td>1</td>\n",
       "      <td>3</td>\n",
       "      <td>1078</td>\n",
       "      <td>339.570</td>\n",
       "      <td>3573.570</td>\n",
       "      <td>MBR</td>\n",
       "      <td>both</td>\n",
       "      <td>Clothing</td>\n",
       "      <td>3</td>\n",
       "      <td>Kids</td>\n",
       "      <td>30</td>\n",
       "    </tr>\n",
       "  </tbody>\n",
       "</table>\n",
       "<p>99293 rows × 19 columns</p>\n",
       "</div>"
      ],
      "text/plain": [
       "       customer_Id       DOB Gender  city_code  transaction_id  cust_id  \\\n",
       "0           268408    2-1-70      M        4.0     87243835584   268408   \n",
       "1           268408    2-1-70      M        4.0     87243835584   268408   \n",
       "2           268408    2-1-70      M        4.0     87243835584   268408   \n",
       "3           268408    2-1-70      M        4.0     87243835584   268408   \n",
       "4           268408    2-1-70      M        4.0     87243835584   268408   \n",
       "...            ...       ...    ...        ...             ...      ...   \n",
       "99288       271772  17-12-92      M        2.0     10440850091   271772   \n",
       "99289       271772  17-12-92      M        2.0     10440850091   271772   \n",
       "99290       269626  27-12-92      F        5.0     94134051896   269626   \n",
       "99291       269626  27-12-92      F        5.0     94134051896   269626   \n",
       "99292       269626  27-12-92      F        5.0     94134051896   269626   \n",
       "\n",
       "       tran_date  prod_subcat_code  prod_cat_code  Qty  Rate      Tax  \\\n",
       "0     2014-01-13                 7              5    5   187   98.175   \n",
       "1     2014-01-13                 7              5    5   187   98.175   \n",
       "2     2014-01-13                 7              5    5   187   98.175   \n",
       "3     2014-01-13                 7              5    5   187   98.175   \n",
       "4     2014-01-13                 7              5    5   187   98.175   \n",
       "...          ...               ...            ...  ...   ...      ...   \n",
       "99288 2013-04-26                 4              1    4   819  343.980   \n",
       "99289 2013-04-26                 4              1    4   819  343.980   \n",
       "99290 2011-07-07                 3              1    3  1078  339.570   \n",
       "99291 2011-07-07                 3              1    3  1078  339.570   \n",
       "99292 2011-07-07                 3              1    3  1078  339.570   \n",
       "\n",
       "       total_amt      Store_type _merge  prod_cat  prod_sub_cat_code  \\\n",
       "0       1033.175        TeleShop   both     Books                  7   \n",
       "1       1033.175        TeleShop   both     Books                 12   \n",
       "2       1033.175        TeleShop   both     Books                 10   \n",
       "3       1033.175        TeleShop   both     Books                 11   \n",
       "4       1033.175        TeleShop   both     Books                  3   \n",
       "...          ...             ...    ...       ...                ...   \n",
       "99288   3619.980  Flagship store   both  Clothing                  1   \n",
       "99289   3619.980  Flagship store   both  Clothing                  3   \n",
       "99290   3573.570             MBR   both  Clothing                  4   \n",
       "99291   3573.570             MBR   both  Clothing                  1   \n",
       "99292   3573.570             MBR   both  Clothing                  3   \n",
       "\n",
       "       prod_subcat  age  \n",
       "0          Fiction   52  \n",
       "1         Academic   52  \n",
       "2      Non-Fiction   52  \n",
       "3         Children   52  \n",
       "4           Comics   52  \n",
       "...            ...  ...  \n",
       "99288        Women   30  \n",
       "99289         Kids   30  \n",
       "99290         Mens   30  \n",
       "99291        Women   30  \n",
       "99292         Kids   30  \n",
       "\n",
       "[99293 rows x 19 columns]"
      ]
     },
     "execution_count": 50,
     "metadata": {},
     "output_type": "execute_result"
    }
   ],
   "source": [
    "df"
   ]
  },
  {
   "cell_type": "code",
   "execution_count": 64,
   "metadata": {
    "colab": {
     "base_uri": "https://localhost:8080/"
    },
    "executionInfo": {
     "elapsed": 35,
     "status": "ok",
     "timestamp": 1621714940044,
     "user": {
      "displayName": "Muhamed Essam",
      "photoUrl": "",
      "userId": "08424210389974954863"
     },
     "user_tz": -120
    },
    "id": "kvwQWIPAEG2j",
    "outputId": "ed9fd998-60aa-4628-cf0a-7f5baf7f19ea"
   },
   "outputs": [
    {
     "name": "stdout",
     "output_type": "stream",
     "text": [
      "Total amount spent total_amt    27367446.6\n",
      "dtype: float64\n"
     ]
    }
   ],
   "source": [
    "AgeFilter=df.loc[(df.age > 25)&(df.age < 35)]\n",
    "total = AgeFilter.loc[AgeFilter.prod_cat.isin([\"Electronics\", \"Books\"]),[\"total_amt\"]].sum()   #  Replace None Values with correct value or method   \n",
    "print('Total amount spent',total)"
   ]
  },
  {
   "cell_type": "markdown",
   "metadata": {
    "id": "EMe_5rgbEG2k"
   },
   "source": [
    "### b.  What was the total amount spent by these customers between 1st Jan, 2014 to 1st Mar, 2014?"
   ]
  },
  {
   "cell_type": "code",
   "execution_count": 68,
   "metadata": {
    "colab": {
     "base_uri": "https://localhost:8080/"
    },
    "executionInfo": {
     "elapsed": 23,
     "status": "ok",
     "timestamp": 1621714940044,
     "user": {
      "displayName": "Muhamed Essam",
      "photoUrl": "",
      "userId": "08424210389974954863"
     },
     "user_tz": -120
    },
    "id": "Ak-R4p6SEG2k",
    "outputId": "9c6397e3-a06d-4838-805c-69f8e97ed643"
   },
   "outputs": [
    {
     "name": "stdout",
     "output_type": "stream",
     "text": [
      "Total amount spent by the customer -  1588406.56\n"
     ]
    }
   ],
   "source": [
    "Customer_Final['tran_date'] = pd.to_datetime(Customer_Final['tran_date'])\n",
    "t_date = Customer_Final[(Customer_Final['tran_date'] >='2014-01-01') & (Customer_Final['tran_date'] <='2014-03-01')]\n",
    "total_amount = t_date[(t_date[\"age\"]>25) & (t_date[\"age\"]<35)].total_amt.sum()         #  Replace None Values with correct value or method   \n",
    "print('Total amount spent by the customer - ',total_amount)"
   ]
  },
  {
   "cell_type": "code",
   "execution_count": null,
   "metadata": {
    "id": "h0AVgDpwEG2m"
   },
   "outputs": [],
   "source": []
  },
  {
   "cell_type": "code",
   "execution_count": null,
   "metadata": {},
   "outputs": [],
   "source": []
  }
 ],
 "metadata": {
  "colab": {
   "name": "Retail Case Study.ipynb",
   "provenance": []
  },
  "kernelspec": {
   "display_name": "Python 3",
   "language": "python",
   "name": "python3"
  },
  "language_info": {
   "codemirror_mode": {
    "name": "ipython",
    "version": 3
   },
   "file_extension": ".py",
   "mimetype": "text/x-python",
   "name": "python",
   "nbconvert_exporter": "python",
   "pygments_lexer": "ipython3",
   "version": "3.8.8"
  }
 },
 "nbformat": 4,
 "nbformat_minor": 1
}
